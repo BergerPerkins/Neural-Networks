{
 "cells": [
  {
   "cell_type": "code",
   "execution_count": 1,
   "id": "4e4a5457",
   "metadata": {},
   "outputs": [],
   "source": [
    "# Import necessary libraries for MLP and reshaping the data structres\n",
    "import pandas as pd\n",
    "import numpy as np"
   ]
  },
  {
   "cell_type": "code",
   "execution_count": 2,
   "id": "8c948c36",
   "metadata": {},
   "outputs": [
    {
     "data": {
      "text/html": [
       "<div>\n",
       "<style scoped>\n",
       "    .dataframe tbody tr th:only-of-type {\n",
       "        vertical-align: middle;\n",
       "    }\n",
       "\n",
       "    .dataframe tbody tr th {\n",
       "        vertical-align: top;\n",
       "    }\n",
       "\n",
       "    .dataframe thead th {\n",
       "        text-align: right;\n",
       "    }\n",
       "</style>\n",
       "<table border=\"1\" class=\"dataframe\">\n",
       "  <thead>\n",
       "    <tr style=\"text-align: right;\">\n",
       "      <th></th>\n",
       "      <th>R&amp;D Spend</th>\n",
       "      <th>Administration</th>\n",
       "      <th>Marketing Spend</th>\n",
       "      <th>State</th>\n",
       "      <th>Profit</th>\n",
       "    </tr>\n",
       "  </thead>\n",
       "  <tbody>\n",
       "    <tr>\n",
       "      <th>0</th>\n",
       "      <td>165349.20</td>\n",
       "      <td>136897.80</td>\n",
       "      <td>471784.10</td>\n",
       "      <td>New York</td>\n",
       "      <td>192261.83</td>\n",
       "    </tr>\n",
       "    <tr>\n",
       "      <th>1</th>\n",
       "      <td>162597.70</td>\n",
       "      <td>151377.59</td>\n",
       "      <td>443898.53</td>\n",
       "      <td>California</td>\n",
       "      <td>191792.06</td>\n",
       "    </tr>\n",
       "    <tr>\n",
       "      <th>2</th>\n",
       "      <td>153441.51</td>\n",
       "      <td>101145.55</td>\n",
       "      <td>407934.54</td>\n",
       "      <td>Florida</td>\n",
       "      <td>191050.39</td>\n",
       "    </tr>\n",
       "    <tr>\n",
       "      <th>3</th>\n",
       "      <td>144372.41</td>\n",
       "      <td>118671.85</td>\n",
       "      <td>383199.62</td>\n",
       "      <td>New York</td>\n",
       "      <td>182901.99</td>\n",
       "    </tr>\n",
       "    <tr>\n",
       "      <th>4</th>\n",
       "      <td>142107.34</td>\n",
       "      <td>91391.77</td>\n",
       "      <td>366168.42</td>\n",
       "      <td>Florida</td>\n",
       "      <td>166187.94</td>\n",
       "    </tr>\n",
       "  </tbody>\n",
       "</table>\n",
       "</div>"
      ],
      "text/plain": [
       "   R&D Spend  Administration  Marketing Spend       State     Profit\n",
       "0  165349.20       136897.80        471784.10    New York  192261.83\n",
       "1  162597.70       151377.59        443898.53  California  191792.06\n",
       "2  153441.51       101145.55        407934.54     Florida  191050.39\n",
       "3  144372.41       118671.85        383199.62    New York  182901.99\n",
       "4  142107.34        91391.77        366168.42     Florida  166187.94"
      ]
     },
     "execution_count": 2,
     "metadata": {},
     "output_type": "execute_result"
    }
   ],
   "source": [
    "#loading the dataset\n",
    "Startups = pd.read_csv(r\"D:\\360 Data Science 360DigiTMG\\Day41-NeuralNetwork\\Datasets_ANN Assignment\\50_Startups (2).csv\")\n",
    "Startups.head()      "
   ]
  },
  {
   "cell_type": "code",
   "execution_count": 3,
   "id": "666043ea",
   "metadata": {},
   "outputs": [
    {
     "name": "stdout",
     "output_type": "stream",
     "text": [
      "<class 'pandas.core.frame.DataFrame'>\n",
      "RangeIndex: 50 entries, 0 to 49\n",
      "Data columns (total 5 columns):\n",
      " #   Column           Non-Null Count  Dtype  \n",
      "---  ------           --------------  -----  \n",
      " 0   R&D Spend        50 non-null     float64\n",
      " 1   Administration   50 non-null     float64\n",
      " 2   Marketing Spend  50 non-null     float64\n",
      " 3   State            50 non-null     object \n",
      " 4   Profit           50 non-null     float64\n",
      "dtypes: float64(4), object(1)\n",
      "memory usage: 2.1+ KB\n"
     ]
    }
   ],
   "source": [
    "#details of rpl \n",
    "Startups.info()"
   ]
  },
  {
   "cell_type": "code",
   "execution_count": 4,
   "id": "a24abda0",
   "metadata": {},
   "outputs": [
    {
     "data": {
      "text/html": [
       "<div>\n",
       "<style scoped>\n",
       "    .dataframe tbody tr th:only-of-type {\n",
       "        vertical-align: middle;\n",
       "    }\n",
       "\n",
       "    .dataframe tbody tr th {\n",
       "        vertical-align: top;\n",
       "    }\n",
       "\n",
       "    .dataframe thead th {\n",
       "        text-align: right;\n",
       "    }\n",
       "</style>\n",
       "<table border=\"1\" class=\"dataframe\">\n",
       "  <thead>\n",
       "    <tr style=\"text-align: right;\">\n",
       "      <th></th>\n",
       "      <th>R&amp;D Spend</th>\n",
       "      <th>Administration</th>\n",
       "      <th>Marketing Spend</th>\n",
       "      <th>Profit</th>\n",
       "    </tr>\n",
       "  </thead>\n",
       "  <tbody>\n",
       "    <tr>\n",
       "      <th>count</th>\n",
       "      <td>50.000000</td>\n",
       "      <td>50.000000</td>\n",
       "      <td>50.000000</td>\n",
       "      <td>50.000000</td>\n",
       "    </tr>\n",
       "    <tr>\n",
       "      <th>mean</th>\n",
       "      <td>73721.615600</td>\n",
       "      <td>121344.639600</td>\n",
       "      <td>211025.097800</td>\n",
       "      <td>112012.639200</td>\n",
       "    </tr>\n",
       "    <tr>\n",
       "      <th>std</th>\n",
       "      <td>45902.256482</td>\n",
       "      <td>28017.802755</td>\n",
       "      <td>122290.310726</td>\n",
       "      <td>40306.180338</td>\n",
       "    </tr>\n",
       "    <tr>\n",
       "      <th>min</th>\n",
       "      <td>0.000000</td>\n",
       "      <td>51283.140000</td>\n",
       "      <td>0.000000</td>\n",
       "      <td>14681.400000</td>\n",
       "    </tr>\n",
       "    <tr>\n",
       "      <th>25%</th>\n",
       "      <td>39936.370000</td>\n",
       "      <td>103730.875000</td>\n",
       "      <td>129300.132500</td>\n",
       "      <td>90138.902500</td>\n",
       "    </tr>\n",
       "    <tr>\n",
       "      <th>50%</th>\n",
       "      <td>73051.080000</td>\n",
       "      <td>122699.795000</td>\n",
       "      <td>212716.240000</td>\n",
       "      <td>107978.190000</td>\n",
       "    </tr>\n",
       "    <tr>\n",
       "      <th>75%</th>\n",
       "      <td>101602.800000</td>\n",
       "      <td>144842.180000</td>\n",
       "      <td>299469.085000</td>\n",
       "      <td>139765.977500</td>\n",
       "    </tr>\n",
       "    <tr>\n",
       "      <th>max</th>\n",
       "      <td>165349.200000</td>\n",
       "      <td>182645.560000</td>\n",
       "      <td>471784.100000</td>\n",
       "      <td>192261.830000</td>\n",
       "    </tr>\n",
       "  </tbody>\n",
       "</table>\n",
       "</div>"
      ],
      "text/plain": [
       "           R&D Spend  Administration  Marketing Spend         Profit\n",
       "count      50.000000       50.000000        50.000000      50.000000\n",
       "mean    73721.615600   121344.639600    211025.097800  112012.639200\n",
       "std     45902.256482    28017.802755    122290.310726   40306.180338\n",
       "min         0.000000    51283.140000         0.000000   14681.400000\n",
       "25%     39936.370000   103730.875000    129300.132500   90138.902500\n",
       "50%     73051.080000   122699.795000    212716.240000  107978.190000\n",
       "75%    101602.800000   144842.180000    299469.085000  139765.977500\n",
       "max    165349.200000   182645.560000    471784.100000  192261.830000"
      ]
     },
     "execution_count": 4,
     "metadata": {},
     "output_type": "execute_result"
    }
   ],
   "source": [
    "Startups.describe()"
   ]
  },
  {
   "cell_type": "code",
   "execution_count": 5,
   "id": "1b448eb0",
   "metadata": {},
   "outputs": [
    {
     "data": {
      "text/plain": [
       "R&D Spend          float64\n",
       "Administration     float64\n",
       "Marketing Spend    float64\n",
       "State               object\n",
       "Profit             float64\n",
       "dtype: object"
      ]
     },
     "execution_count": 5,
     "metadata": {},
     "output_type": "execute_result"
    }
   ],
   "source": [
    "#data types        \n",
    "Startups.dtypes"
   ]
  },
  {
   "cell_type": "code",
   "execution_count": 6,
   "id": "67982459",
   "metadata": {},
   "outputs": [
    {
     "data": {
      "text/plain": [
       "R&D Spend          0\n",
       "Administration     0\n",
       "Marketing Spend    0\n",
       "State              0\n",
       "Profit             0\n",
       "dtype: int64"
      ]
     },
     "execution_count": 6,
     "metadata": {},
     "output_type": "execute_result"
    }
   ],
   "source": [
    "#checking for na and null value\n",
    "Startups.isna().sum()"
   ]
  },
  {
   "cell_type": "code",
   "execution_count": 7,
   "id": "440b317b",
   "metadata": {},
   "outputs": [
    {
     "data": {
      "text/plain": [
       "R&D Spend          0\n",
       "Administration     0\n",
       "Marketing Spend    0\n",
       "State              0\n",
       "Profit             0\n",
       "dtype: int64"
      ]
     },
     "execution_count": 7,
     "metadata": {},
     "output_type": "execute_result"
    }
   ],
   "source": [
    "Startups.isnull().sum()"
   ]
  },
  {
   "cell_type": "code",
   "execution_count": 8,
   "id": "90b0b133",
   "metadata": {},
   "outputs": [
    {
     "data": {
      "text/plain": [
       "R&D Spend          49\n",
       "Administration     50\n",
       "Marketing Spend    48\n",
       "State               3\n",
       "Profit             50\n",
       "dtype: int64"
      ]
     },
     "execution_count": 8,
     "metadata": {},
     "output_type": "execute_result"
    }
   ],
   "source": [
    "#checking unique value for each columns\n",
    "Startups.nunique()"
   ]
  },
  {
   "cell_type": "code",
   "execution_count": 9,
   "id": "744c5972",
   "metadata": {},
   "outputs": [
    {
     "name": "stderr",
     "output_type": "stream",
     "text": [
      "C:\\Users\\jeeva\\AppData\\Local\\Temp\\ipykernel_11312\\3825997252.py:3: FutureWarning: Dropping of nuisance columns in DataFrame reductions (with 'numeric_only=None') is deprecated; in a future version this will raise TypeError.  Select only valid columns before calling the reduction.\n",
      "  \"mean\": Startups.mean(),\n",
      "C:\\Users\\jeeva\\AppData\\Local\\Temp\\ipykernel_11312\\3825997252.py:4: FutureWarning: Dropping of nuisance columns in DataFrame reductions (with 'numeric_only=None') is deprecated; in a future version this will raise TypeError.  Select only valid columns before calling the reduction.\n",
      "  \"median\":Startups.median(),\n",
      "C:\\Users\\jeeva\\AppData\\Local\\Temp\\ipykernel_11312\\3825997252.py:6: FutureWarning: Dropping of nuisance columns in DataFrame reductions (with 'numeric_only=None') is deprecated; in a future version this will raise TypeError.  Select only valid columns before calling the reduction.\n",
      "  \"standard deviation\": Startups.std(),\n",
      "C:\\Users\\jeeva\\AppData\\Local\\Temp\\ipykernel_11312\\3825997252.py:7: FutureWarning: Dropping of nuisance columns in DataFrame reductions (with 'numeric_only=None') is deprecated; in a future version this will raise TypeError.  Select only valid columns before calling the reduction.\n",
      "  \"variance\":Startups.var(),\n",
      "C:\\Users\\jeeva\\AppData\\Local\\Temp\\ipykernel_11312\\3825997252.py:8: FutureWarning: Dropping of nuisance columns in DataFrame reductions (with 'numeric_only=None') is deprecated; in a future version this will raise TypeError.  Select only valid columns before calling the reduction.\n",
      "  \"skewness\":Startups.skew(),\n",
      "C:\\Users\\jeeva\\AppData\\Local\\Temp\\ipykernel_11312\\3825997252.py:9: FutureWarning: Dropping of nuisance columns in DataFrame reductions (with 'numeric_only=None') is deprecated; in a future version this will raise TypeError.  Select only valid columns before calling the reduction.\n",
      "  \"kurtosis\":Startups.kurt()}\n"
     ]
    },
    {
     "data": {
      "text/plain": [
       "{'column ': Index(['R&D Spend', 'Administration', 'Marketing Spend', 'State', 'Profit'], dtype='object'),\n",
       " 'mean': R&D Spend           73721.6156\n",
       " Administration     121344.6396\n",
       " Marketing Spend    211025.0978\n",
       " Profit             112012.6392\n",
       " dtype: float64,\n",
       " 'median': R&D Spend           73051.080\n",
       " Administration     122699.795\n",
       " Marketing Spend    212716.240\n",
       " Profit             107978.190\n",
       " dtype: float64,\n",
       " 'mode':     R&D Spend  Administration  Marketing Spend       State     Profit\n",
       " 0         0.0        51283.14              0.0  California   14681.40\n",
       " 1         NaN        51743.15              NaN    New York   35673.41\n",
       " 2         NaN        65947.93              NaN         NaN   42559.73\n",
       " 3         NaN        82982.09              NaN         NaN   49490.75\n",
       " 4         NaN        84710.77              NaN         NaN   64926.08\n",
       " 5         NaN        85047.44              NaN         NaN   65200.33\n",
       " 6         NaN        91391.77              NaN         NaN   69758.98\n",
       " 7         NaN        91790.61              NaN         NaN   71498.49\n",
       " 8         NaN        96189.63              NaN         NaN   77798.83\n",
       " 9         NaN        99281.34              NaN         NaN   78239.91\n",
       " 10        NaN        99814.71              NaN         NaN   81005.76\n",
       " 11        NaN       101145.55              NaN         NaN   81229.06\n",
       " 12        NaN       103057.49              NaN         NaN   89949.14\n",
       " 13        NaN       105751.03              NaN         NaN   90708.19\n",
       " 14        NaN       108679.17              NaN         NaN   96479.51\n",
       " 15        NaN       110594.11              NaN         NaN   96712.80\n",
       " 16        NaN       113867.30              NaN         NaN   96778.92\n",
       " 17        NaN       114175.79              NaN         NaN   97427.84\n",
       " 18        NaN       115641.28              NaN         NaN   97483.56\n",
       " 19        NaN       115816.21              NaN         NaN   99937.59\n",
       " 20        NaN       116983.80              NaN         NaN  101004.64\n",
       " 21        NaN       118546.05              NaN         NaN  103282.38\n",
       " 22        NaN       118671.85              NaN         NaN  105008.31\n",
       " 23        NaN       121597.55              NaN         NaN  105733.54\n",
       " 24        NaN       122616.84              NaN         NaN  107404.34\n",
       " 25        NaN       122782.75              NaN         NaN  108552.04\n",
       " 26        NaN       124153.04              NaN         NaN  108733.99\n",
       " 27        NaN       127056.21              NaN         NaN  110352.25\n",
       " 28        NaN       127320.38              NaN         NaN  111313.02\n",
       " 29        NaN       127382.30              NaN         NaN  118474.03\n",
       " 30        NaN       127864.55              NaN         NaN  122776.86\n",
       " 31        NaN       129219.61              NaN         NaN  124266.90\n",
       " 32        NaN       135426.92              NaN         NaN  125370.37\n",
       " 33        NaN       135495.07              NaN         NaN  126992.93\n",
       " 34        NaN       136897.80              NaN         NaN  129917.04\n",
       " 35        NaN       139553.16              NaN         NaN  132602.65\n",
       " 36        NaN       144135.98              NaN         NaN  134307.35\n",
       " 37        NaN       145077.58              NaN         NaN  141585.52\n",
       " 38        NaN       145530.06              NaN         NaN  144259.40\n",
       " 39        NaN       147198.87              NaN         NaN  146121.95\n",
       " 40        NaN       148718.95              NaN         NaN  149759.96\n",
       " 41        NaN       151377.59              NaN         NaN  152211.77\n",
       " 42        NaN       152701.92              NaN         NaN  155752.60\n",
       " 43        NaN       153032.06              NaN         NaN  156122.51\n",
       " 44        NaN       153514.11              NaN         NaN  156991.12\n",
       " 45        NaN       153773.43              NaN         NaN  166187.94\n",
       " 46        NaN       154806.14              NaN         NaN  182901.99\n",
       " 47        NaN       156547.42              NaN         NaN  191050.39\n",
       " 48        NaN       157693.92              NaN         NaN  191792.06\n",
       " 49        NaN       182645.56              NaN         NaN  192261.83,\n",
       " 'standard deviation': R&D Spend           45902.256482\n",
       " Administration      28017.802755\n",
       " Marketing Spend    122290.310726\n",
       " Profit              40306.180338\n",
       " dtype: float64,\n",
       " 'variance': R&D Spend          2.107017e+09\n",
       " Administration     7.849973e+08\n",
       " Marketing Spend    1.495492e+10\n",
       " Profit             1.624588e+09\n",
       " dtype: float64,\n",
       " 'skewness': R&D Spend          0.164002\n",
       " Administration    -0.489025\n",
       " Marketing Spend   -0.046472\n",
       " Profit             0.023291\n",
       " dtype: float64,\n",
       " 'kurtosis': R&D Spend         -0.761465\n",
       " Administration     0.225071\n",
       " Marketing Spend   -0.671701\n",
       " Profit            -0.063859\n",
       " dtype: float64}"
      ]
     },
     "execution_count": 9,
     "metadata": {},
     "output_type": "execute_result"
    }
   ],
   "source": [
    "#Performing EDA\n",
    "EDA ={\"column \": Startups.columns,\n",
    "      \"mean\": Startups.mean(),\n",
    "      \"median\":Startups.median(),\n",
    "      \"mode\":Startups.mode(),\n",
    "      \"standard deviation\": Startups.std(),\n",
    "      \"variance\":Startups.var(),\n",
    "      \"skewness\":Startups.skew(),\n",
    "      \"kurtosis\":Startups.kurt()}\n",
    "\n",
    "EDA"
   ]
  },
  {
   "cell_type": "code",
   "execution_count": 10,
   "id": "11c6ac0c",
   "metadata": {},
   "outputs": [
    {
     "name": "stderr",
     "output_type": "stream",
     "text": [
      "C:\\Users\\jeeva\\AppData\\Local\\Temp\\ipykernel_11312\\3708099796.py:2: FutureWarning: Dropping of nuisance columns in DataFrame reductions (with 'numeric_only=None') is deprecated; in a future version this will raise TypeError.  Select only valid columns before calling the reduction.\n",
      "  Startups.var()\n"
     ]
    },
    {
     "data": {
      "text/plain": [
       "R&D Spend          2.107017e+09\n",
       "Administration     7.849973e+08\n",
       "Marketing Spend    1.495492e+10\n",
       "Profit             1.624588e+09\n",
       "dtype: float64"
      ]
     },
     "execution_count": 10,
     "metadata": {},
     "output_type": "execute_result"
    }
   ],
   "source": [
    "#variance for each column\n",
    "Startups.var() "
   ]
  },
  {
   "cell_type": "markdown",
   "id": "5eddde71",
   "metadata": {},
   "source": [
    "#### Graphical repersentation "
   ]
  },
  {
   "cell_type": "code",
   "execution_count": 11,
   "id": "92247b0b",
   "metadata": {},
   "outputs": [
    {
     "data": {
      "text/plain": [
       "<seaborn.axisgrid.PairGrid at 0x17ed53543a0>"
      ]
     },
     "execution_count": 11,
     "metadata": {},
     "output_type": "execute_result"
    },
    {
     "data": {
      "image/png": "[encoded data removed]",
      "text/plain": [
       "<Figure size 853.25x750 with 12 Axes>"
      ]
     },
     "metadata": {},
     "output_type": "display_data"
    }
   ],
   "source": [
    "##historgam and scatter plot\n",
    "import seaborn as sns\n",
    "sns.pairplot(Startups,hue='Profit')"
   ]
  },
  {
   "cell_type": "code",
   "execution_count": 12,
   "id": "18d63f8d",
   "metadata": {},
   "outputs": [],
   "source": [
    "# Normalization function using z std. all are continuous data.\n",
    "def norm_func(i):\n",
    "    x = (i-i.mean())/(i.std())\n",
    "    return (x)"
   ]
  },
  {
   "cell_type": "code",
   "execution_count": 13,
   "id": "df8e76e4",
   "metadata": {},
   "outputs": [],
   "source": [
    "# Normalized data frame (considering the numerical part of data)\n",
    "df = norm_func(Startups.iloc[:,:3])"
   ]
  },
  {
   "cell_type": "code",
   "execution_count": 14,
   "id": "67666ad2",
   "metadata": {},
   "outputs": [],
   "source": [
    "#categorical\n",
    "enc_df = pd.get_dummies(Startups.iloc[:,[3]])"
   ]
  },
  {
   "cell_type": "code",
   "execution_count": 15,
   "id": "7a654afe",
   "metadata": {},
   "outputs": [
    {
     "data": {
      "text/html": [
       "<div>\n",
       "<style scoped>\n",
       "    .dataframe tbody tr th:only-of-type {\n",
       "        vertical-align: middle;\n",
       "    }\n",
       "\n",
       "    .dataframe tbody tr th {\n",
       "        vertical-align: top;\n",
       "    }\n",
       "\n",
       "    .dataframe thead th {\n",
       "        text-align: right;\n",
       "    }\n",
       "</style>\n",
       "<table border=\"1\" class=\"dataframe\">\n",
       "  <thead>\n",
       "    <tr style=\"text-align: right;\">\n",
       "      <th></th>\n",
       "      <th>Profit</th>\n",
       "      <th>R&amp;D Spend</th>\n",
       "      <th>Administration</th>\n",
       "      <th>Marketing Spend</th>\n",
       "      <th>State_California</th>\n",
       "      <th>State_Florida</th>\n",
       "      <th>State_New York</th>\n",
       "    </tr>\n",
       "  </thead>\n",
       "  <tbody>\n",
       "    <tr>\n",
       "      <th>count</th>\n",
       "      <td>50.000000</td>\n",
       "      <td>5.000000e+01</td>\n",
       "      <td>5.000000e+01</td>\n",
       "      <td>5.000000e+01</td>\n",
       "      <td>50.000000</td>\n",
       "      <td>50.000000</td>\n",
       "      <td>50.000000</td>\n",
       "    </tr>\n",
       "    <tr>\n",
       "      <th>mean</th>\n",
       "      <td>112012.639200</td>\n",
       "      <td>1.376677e-16</td>\n",
       "      <td>1.794676e-15</td>\n",
       "      <td>-3.730349e-16</td>\n",
       "      <td>0.340000</td>\n",
       "      <td>0.320000</td>\n",
       "      <td>0.340000</td>\n",
       "    </tr>\n",
       "    <tr>\n",
       "      <th>std</th>\n",
       "      <td>40306.180338</td>\n",
       "      <td>1.000000e+00</td>\n",
       "      <td>1.000000e+00</td>\n",
       "      <td>1.000000e+00</td>\n",
       "      <td>0.478518</td>\n",
       "      <td>0.471212</td>\n",
       "      <td>0.478518</td>\n",
       "    </tr>\n",
       "    <tr>\n",
       "      <th>min</th>\n",
       "      <td>14681.400000</td>\n",
       "      <td>-1.606056e+00</td>\n",
       "      <td>-2.500606e+00</td>\n",
       "      <td>-1.725608e+00</td>\n",
       "      <td>0.000000</td>\n",
       "      <td>0.000000</td>\n",
       "      <td>0.000000</td>\n",
       "    </tr>\n",
       "    <tr>\n",
       "      <th>25%</th>\n",
       "      <td>90138.902500</td>\n",
       "      <td>-7.360258e-01</td>\n",
       "      <td>-6.286633e-01</td>\n",
       "      <td>-6.682865e-01</td>\n",
       "      <td>0.000000</td>\n",
       "      <td>0.000000</td>\n",
       "      <td>0.000000</td>\n",
       "    </tr>\n",
       "    <tr>\n",
       "      <th>50%</th>\n",
       "      <td>107978.190000</td>\n",
       "      <td>-1.460790e-02</td>\n",
       "      <td>4.836765e-02</td>\n",
       "      <td>1.382891e-02</td>\n",
       "      <td>0.000000</td>\n",
       "      <td>0.000000</td>\n",
       "      <td>0.000000</td>\n",
       "    </tr>\n",
       "    <tr>\n",
       "      <th>75%</th>\n",
       "      <td>139765.977500</td>\n",
       "      <td>6.074034e-01</td>\n",
       "      <td>8.386646e-01</td>\n",
       "      <td>7.232297e-01</td>\n",
       "      <td>1.000000</td>\n",
       "      <td>1.000000</td>\n",
       "      <td>1.000000</td>\n",
       "    </tr>\n",
       "    <tr>\n",
       "      <th>max</th>\n",
       "      <td>192261.830000</td>\n",
       "      <td>1.996146e+00</td>\n",
       "      <td>2.187927e+00</td>\n",
       "      <td>2.132295e+00</td>\n",
       "      <td>1.000000</td>\n",
       "      <td>1.000000</td>\n",
       "      <td>1.000000</td>\n",
       "    </tr>\n",
       "  </tbody>\n",
       "</table>\n",
       "</div>"
      ],
      "text/plain": [
       "              Profit     R&D Spend  Administration  Marketing Spend  \\\n",
       "count      50.000000  5.000000e+01    5.000000e+01     5.000000e+01   \n",
       "mean   112012.639200  1.376677e-16    1.794676e-15    -3.730349e-16   \n",
       "std     40306.180338  1.000000e+00    1.000000e+00     1.000000e+00   \n",
       "min     14681.400000 -1.606056e+00   -2.500606e+00    -1.725608e+00   \n",
       "25%     90138.902500 -7.360258e-01   -6.286633e-01    -6.682865e-01   \n",
       "50%    107978.190000 -1.460790e-02    4.836765e-02     1.382891e-02   \n",
       "75%    139765.977500  6.074034e-01    8.386646e-01     7.232297e-01   \n",
       "max    192261.830000  1.996146e+00    2.187927e+00     2.132295e+00   \n",
       "\n",
       "       State_California  State_Florida  State_New York  \n",
       "count         50.000000      50.000000       50.000000  \n",
       "mean           0.340000       0.320000        0.340000  \n",
       "std            0.478518       0.471212        0.478518  \n",
       "min            0.000000       0.000000        0.000000  \n",
       "25%            0.000000       0.000000        0.000000  \n",
       "50%            0.000000       0.000000        0.000000  \n",
       "75%            1.000000       1.000000        1.000000  \n",
       "max            1.000000       1.000000        1.000000  "
      ]
     },
     "execution_count": 15,
     "metadata": {},
     "output_type": "execute_result"
    }
   ],
   "source": [
    "#final dataframe\n",
    "model_df = pd.concat([Startups.iloc[:,[4]],df,enc_df], axis =1)\n",
    "model_df.describe()"
   ]
  },
  {
   "cell_type": "code",
   "execution_count": 16,
   "id": "ff1f4141",
   "metadata": {},
   "outputs": [],
   "source": [
    "np.random.seed(10)"
   ]
  },
  {
   "cell_type": "code",
   "execution_count": 17,
   "id": "ebc6fe17",
   "metadata": {},
   "outputs": [],
   "source": [
    "from sklearn.model_selection import train_test_split\n",
    "model_df_train, model_df_test = train_test_split(model_df, test_size = 0.2,random_state = 457) # 20% test data\n",
    "\n",
    "x_train = model_df_train.iloc[:,1:].values.astype(\"float32\")\n",
    "y_train = model_df_train.iloc[:,0].values.astype(\"float32\")\n",
    "x_test = model_df_test.iloc[:,1:].values.astype(\"float32\")\n",
    "y_test = model_df_test.iloc[:,0].values.astype(\"float32\")"
   ]
  },
  {
   "cell_type": "code",
   "execution_count": 18,
   "id": "04b7a057",
   "metadata": {},
   "outputs": [
    {
     "name": "stderr",
     "output_type": "stream",
     "text": [
      "C:\\Users\\jeeva\\anaconda3\\lib\\site-packages\\sklearn\\neural_network\\_multilayer_perceptron.py:549: ConvergenceWarning: lbfgs failed to converge (status=1):\n",
      "STOP: TOTAL NO. of ITERATIONS REACHED LIMIT.\n",
      "\n",
      "Increase the number of iterations (max_iter) or scale the data as shown in:\n",
      "    https://scikit-learn.org/stable/modules/preprocessing.html\n",
      "  self.n_iter_ = _check_optimize_result(\"lbfgs\", opt_res, self.max_iter)\n"
     ]
    },
    {
     "data": {
      "text/plain": [
       "MLPRegressor(hidden_layer_sizes=(100, 100, 100), max_iter=20, solver='lbfgs')"
      ]
     },
     "execution_count": 18,
     "metadata": {},
     "output_type": "execute_result"
    }
   ],
   "source": [
    "#building model\n",
    "from sklearn.neural_network import MLPRegressor\n",
    "model = MLPRegressor(hidden_layer_sizes=(100,100,100),activation='relu', max_iter=20 , solver = 'lbfgs')\n",
    "model.fit(x_train,y_train)"
   ]
  },
  {
   "cell_type": "code",
   "execution_count": 19,
   "id": "49a2f494",
   "metadata": {},
   "outputs": [
    {
     "name": "stdout",
     "output_type": "stream",
     "text": [
      "error on test data 5580.035537978223\n"
     ]
    }
   ],
   "source": [
    "# Evaluating the model on test data using mean absolute square error\n",
    "from sklearn import metrics\n",
    "mae1 = metrics.mean_absolute_error(y_test, model.predict(x_test))\n",
    "print (\"error on test data\", mae1) "
   ]
  },
  {
   "cell_type": "code",
   "execution_count": 20,
   "id": "8b6bea6d",
   "metadata": {},
   "outputs": [
    {
     "name": "stdout",
     "output_type": "stream",
     "text": [
      "error on train data:  6263.5406975020505\n"
     ]
    }
   ],
   "source": [
    "# Evaluating the model on train data \n",
    "mae2 = metrics.mean_absolute_error(y_train, model.predict(x_train))\n",
    "print(\"error on train data: \",mae2)"
   ]
  },
  {
   "cell_type": "markdown",
   "id": "78394191",
   "metadata": {},
   "source": [
    "#### Problem 2 : \n",
    "We have a dataset about 517 fires from the Montesano natural park in Portugal. For each incident, weekday, month, coordinates, and the burnt area are recorded, as well as several meteorological data such as rain, temperature, humidity, and wind. Predict the burnt area of forest fires with the help of an Artificial Neural Network model"
   ]
  },
  {
   "cell_type": "code",
   "execution_count": 21,
   "id": "72ed3b02",
   "metadata": {},
   "outputs": [],
   "source": [
    "#loading the dataset\n",
    "fireforests = pd.read_csv(r\"D:\\360 Data Science 360DigiTMG\\Day41-NeuralNetwork\\Datasets_ANN Assignment\\fireforests.csv\")"
   ]
  },
  {
   "cell_type": "code",
   "execution_count": 22,
   "id": "ed4016fd",
   "metadata": {},
   "outputs": [],
   "source": [
    "#dropping unwanted column\n",
    "fireforests.drop([\"day\",\"month\"], axis = 1, inplace = True)\n",
    "    "
   ]
  },
  {
   "cell_type": "code",
   "execution_count": 23,
   "id": "5c0afefa",
   "metadata": {},
   "outputs": [
    {
     "name": "stdout",
     "output_type": "stream",
     "text": [
      "<class 'pandas.core.frame.DataFrame'>\n",
      "RangeIndex: 517 entries, 0 to 516\n",
      "Data columns (total 28 columns):\n",
      " #   Column    Non-Null Count  Dtype  \n",
      "---  ------    --------------  -----  \n",
      " 0   FFMC      517 non-null    float64\n",
      " 1   DMC       517 non-null    float64\n",
      " 2   DC        517 non-null    float64\n",
      " 3   ISI       517 non-null    float64\n",
      " 4   temp      517 non-null    float64\n",
      " 5   RH        517 non-null    int64  \n",
      " 6   wind      517 non-null    float64\n",
      " 7   rain      517 non-null    float64\n",
      " 8   area      517 non-null    float64\n",
      " 9   dayfri    517 non-null    int64  \n",
      " 10  daymon    517 non-null    int64  \n",
      " 11  daysat    517 non-null    int64  \n",
      " 12  daysun    517 non-null    int64  \n",
      " 13  daythu    517 non-null    int64  \n",
      " 14  daytue    517 non-null    int64  \n",
      " 15  daywed    517 non-null    int64  \n",
      " 16  monthapr  517 non-null    int64  \n",
      " 17  monthaug  517 non-null    int64  \n",
      " 18  monthdec  517 non-null    int64  \n",
      " 19  monthfeb  517 non-null    int64  \n",
      " 20  monthjan  517 non-null    int64  \n",
      " 21  monthjul  517 non-null    int64  \n",
      " 22  monthjun  517 non-null    int64  \n",
      " 23  monthmar  517 non-null    int64  \n",
      " 24  monthmay  517 non-null    int64  \n",
      " 25  monthnov  517 non-null    int64  \n",
      " 26  monthoct  517 non-null    int64  \n",
      " 27  monthsep  517 non-null    int64  \n",
      "dtypes: float64(8), int64(20)\n",
      "memory usage: 113.2 KB\n"
     ]
    }
   ],
   "source": [
    "#details of rpl \n",
    "fireforests.info()"
   ]
  },
  {
   "cell_type": "code",
   "execution_count": 24,
   "id": "82c05eb0",
   "metadata": {},
   "outputs": [
    {
     "data": {
      "text/html": [
       "<div>\n",
       "<style scoped>\n",
       "    .dataframe tbody tr th:only-of-type {\n",
       "        vertical-align: middle;\n",
       "    }\n",
       "\n",
       "    .dataframe tbody tr th {\n",
       "        vertical-align: top;\n",
       "    }\n",
       "\n",
       "    .dataframe thead th {\n",
       "        text-align: right;\n",
       "    }\n",
       "</style>\n",
       "<table border=\"1\" class=\"dataframe\">\n",
       "  <thead>\n",
       "    <tr style=\"text-align: right;\">\n",
       "      <th></th>\n",
       "      <th>FFMC</th>\n",
       "      <th>DMC</th>\n",
       "      <th>DC</th>\n",
       "      <th>ISI</th>\n",
       "      <th>temp</th>\n",
       "      <th>RH</th>\n",
       "      <th>wind</th>\n",
       "      <th>rain</th>\n",
       "      <th>area</th>\n",
       "      <th>dayfri</th>\n",
       "      <th>...</th>\n",
       "      <th>monthdec</th>\n",
       "      <th>monthfeb</th>\n",
       "      <th>monthjan</th>\n",
       "      <th>monthjul</th>\n",
       "      <th>monthjun</th>\n",
       "      <th>monthmar</th>\n",
       "      <th>monthmay</th>\n",
       "      <th>monthnov</th>\n",
       "      <th>monthoct</th>\n",
       "      <th>monthsep</th>\n",
       "    </tr>\n",
       "  </thead>\n",
       "  <tbody>\n",
       "    <tr>\n",
       "      <th>count</th>\n",
       "      <td>517.000000</td>\n",
       "      <td>517.000000</td>\n",
       "      <td>517.000000</td>\n",
       "      <td>517.000000</td>\n",
       "      <td>517.000000</td>\n",
       "      <td>517.000000</td>\n",
       "      <td>517.000000</td>\n",
       "      <td>517.000000</td>\n",
       "      <td>517.000000</td>\n",
       "      <td>517.000000</td>\n",
       "      <td>...</td>\n",
       "      <td>517.000000</td>\n",
       "      <td>517.000000</td>\n",
       "      <td>517.000000</td>\n",
       "      <td>517.000000</td>\n",
       "      <td>517.000000</td>\n",
       "      <td>517.000000</td>\n",
       "      <td>517.000000</td>\n",
       "      <td>517.000000</td>\n",
       "      <td>517.000000</td>\n",
       "      <td>517.000000</td>\n",
       "    </tr>\n",
       "    <tr>\n",
       "      <th>mean</th>\n",
       "      <td>90.644681</td>\n",
       "      <td>110.872340</td>\n",
       "      <td>547.940039</td>\n",
       "      <td>9.021663</td>\n",
       "      <td>18.889168</td>\n",
       "      <td>44.288201</td>\n",
       "      <td>4.017602</td>\n",
       "      <td>0.021663</td>\n",
       "      <td>12.847292</td>\n",
       "      <td>0.164410</td>\n",
       "      <td>...</td>\n",
       "      <td>0.017408</td>\n",
       "      <td>0.038685</td>\n",
       "      <td>0.003868</td>\n",
       "      <td>0.061896</td>\n",
       "      <td>0.032882</td>\n",
       "      <td>0.104449</td>\n",
       "      <td>0.003868</td>\n",
       "      <td>0.001934</td>\n",
       "      <td>0.029014</td>\n",
       "      <td>0.332689</td>\n",
       "    </tr>\n",
       "    <tr>\n",
       "      <th>std</th>\n",
       "      <td>5.520111</td>\n",
       "      <td>64.046482</td>\n",
       "      <td>248.066192</td>\n",
       "      <td>4.559477</td>\n",
       "      <td>5.806625</td>\n",
       "      <td>16.317469</td>\n",
       "      <td>1.791653</td>\n",
       "      <td>0.295959</td>\n",
       "      <td>63.655818</td>\n",
       "      <td>0.371006</td>\n",
       "      <td>...</td>\n",
       "      <td>0.130913</td>\n",
       "      <td>0.193029</td>\n",
       "      <td>0.062137</td>\n",
       "      <td>0.241199</td>\n",
       "      <td>0.178500</td>\n",
       "      <td>0.306138</td>\n",
       "      <td>0.062137</td>\n",
       "      <td>0.043980</td>\n",
       "      <td>0.168007</td>\n",
       "      <td>0.471632</td>\n",
       "    </tr>\n",
       "    <tr>\n",
       "      <th>min</th>\n",
       "      <td>18.700000</td>\n",
       "      <td>1.100000</td>\n",
       "      <td>7.900000</td>\n",
       "      <td>0.000000</td>\n",
       "      <td>2.200000</td>\n",
       "      <td>15.000000</td>\n",
       "      <td>0.400000</td>\n",
       "      <td>0.000000</td>\n",
       "      <td>0.000000</td>\n",
       "      <td>0.000000</td>\n",
       "      <td>...</td>\n",
       "      <td>0.000000</td>\n",
       "      <td>0.000000</td>\n",
       "      <td>0.000000</td>\n",
       "      <td>0.000000</td>\n",
       "      <td>0.000000</td>\n",
       "      <td>0.000000</td>\n",
       "      <td>0.000000</td>\n",
       "      <td>0.000000</td>\n",
       "      <td>0.000000</td>\n",
       "      <td>0.000000</td>\n",
       "    </tr>\n",
       "    <tr>\n",
       "      <th>25%</th>\n",
       "      <td>90.200000</td>\n",
       "      <td>68.600000</td>\n",
       "      <td>437.700000</td>\n",
       "      <td>6.500000</td>\n",
       "      <td>15.500000</td>\n",
       "      <td>33.000000</td>\n",
       "      <td>2.700000</td>\n",
       "      <td>0.000000</td>\n",
       "      <td>0.000000</td>\n",
       "      <td>0.000000</td>\n",
       "      <td>...</td>\n",
       "      <td>0.000000</td>\n",
       "      <td>0.000000</td>\n",
       "      <td>0.000000</td>\n",
       "      <td>0.000000</td>\n",
       "      <td>0.000000</td>\n",
       "      <td>0.000000</td>\n",
       "      <td>0.000000</td>\n",
       "      <td>0.000000</td>\n",
       "      <td>0.000000</td>\n",
       "      <td>0.000000</td>\n",
       "    </tr>\n",
       "    <tr>\n",
       "      <th>50%</th>\n",
       "      <td>91.600000</td>\n",
       "      <td>108.300000</td>\n",
       "      <td>664.200000</td>\n",
       "      <td>8.400000</td>\n",
       "      <td>19.300000</td>\n",
       "      <td>42.000000</td>\n",
       "      <td>4.000000</td>\n",
       "      <td>0.000000</td>\n",
       "      <td>0.520000</td>\n",
       "      <td>0.000000</td>\n",
       "      <td>...</td>\n",
       "      <td>0.000000</td>\n",
       "      <td>0.000000</td>\n",
       "      <td>0.000000</td>\n",
       "      <td>0.000000</td>\n",
       "      <td>0.000000</td>\n",
       "      <td>0.000000</td>\n",
       "      <td>0.000000</td>\n",
       "      <td>0.000000</td>\n",
       "      <td>0.000000</td>\n",
       "      <td>0.000000</td>\n",
       "    </tr>\n",
       "    <tr>\n",
       "      <th>75%</th>\n",
       "      <td>92.900000</td>\n",
       "      <td>142.400000</td>\n",
       "      <td>713.900000</td>\n",
       "      <td>10.800000</td>\n",
       "      <td>22.800000</td>\n",
       "      <td>53.000000</td>\n",
       "      <td>4.900000</td>\n",
       "      <td>0.000000</td>\n",
       "      <td>6.570000</td>\n",
       "      <td>0.000000</td>\n",
       "      <td>...</td>\n",
       "      <td>0.000000</td>\n",
       "      <td>0.000000</td>\n",
       "      <td>0.000000</td>\n",
       "      <td>0.000000</td>\n",
       "      <td>0.000000</td>\n",
       "      <td>0.000000</td>\n",
       "      <td>0.000000</td>\n",
       "      <td>0.000000</td>\n",
       "      <td>0.000000</td>\n",
       "      <td>1.000000</td>\n",
       "    </tr>\n",
       "    <tr>\n",
       "      <th>max</th>\n",
       "      <td>96.200000</td>\n",
       "      <td>291.300000</td>\n",
       "      <td>860.600000</td>\n",
       "      <td>56.100000</td>\n",
       "      <td>33.300000</td>\n",
       "      <td>100.000000</td>\n",
       "      <td>9.400000</td>\n",
       "      <td>6.400000</td>\n",
       "      <td>1090.840000</td>\n",
       "      <td>1.000000</td>\n",
       "      <td>...</td>\n",
       "      <td>1.000000</td>\n",
       "      <td>1.000000</td>\n",
       "      <td>1.000000</td>\n",
       "      <td>1.000000</td>\n",
       "      <td>1.000000</td>\n",
       "      <td>1.000000</td>\n",
       "      <td>1.000000</td>\n",
       "      <td>1.000000</td>\n",
       "      <td>1.000000</td>\n",
       "      <td>1.000000</td>\n",
       "    </tr>\n",
       "  </tbody>\n",
       "</table>\n",
       "<p>8 rows × 28 columns</p>\n",
       "</div>"
      ],
      "text/plain": [
       "             FFMC         DMC          DC         ISI        temp          RH  \\\n",
       "count  517.000000  517.000000  517.000000  517.000000  517.000000  517.000000   \n",
       "mean    90.644681  110.872340  547.940039    9.021663   18.889168   44.288201   \n",
       "std      5.520111   64.046482  248.066192    4.559477    5.806625   16.317469   \n",
       "min     18.700000    1.100000    7.900000    0.000000    2.200000   15.000000   \n",
       "25%     90.200000   68.600000  437.700000    6.500000   15.500000   33.000000   \n",
       "50%     91.600000  108.300000  664.200000    8.400000   19.300000   42.000000   \n",
       "75%     92.900000  142.400000  713.900000   10.800000   22.800000   53.000000   \n",
       "max     96.200000  291.300000  860.600000   56.100000   33.300000  100.000000   \n",
       "\n",
       "             wind        rain         area      dayfri  ...    monthdec  \\\n",
       "count  517.000000  517.000000   517.000000  517.000000  ...  517.000000   \n",
       "mean     4.017602    0.021663    12.847292    0.164410  ...    0.017408   \n",
       "std      1.791653    0.295959    63.655818    0.371006  ...    0.130913   \n",
       "min      0.400000    0.000000     0.000000    0.000000  ...    0.000000   \n",
       "25%      2.700000    0.000000     0.000000    0.000000  ...    0.000000   \n",
       "50%      4.000000    0.000000     0.520000    0.000000  ...    0.000000   \n",
       "75%      4.900000    0.000000     6.570000    0.000000  ...    0.000000   \n",
       "max      9.400000    6.400000  1090.840000    1.000000  ...    1.000000   \n",
       "\n",
       "         monthfeb    monthjan    monthjul    monthjun    monthmar    monthmay  \\\n",
       "count  517.000000  517.000000  517.000000  517.000000  517.000000  517.000000   \n",
       "mean     0.038685    0.003868    0.061896    0.032882    0.104449    0.003868   \n",
       "std      0.193029    0.062137    0.241199    0.178500    0.306138    0.062137   \n",
       "min      0.000000    0.000000    0.000000    0.000000    0.000000    0.000000   \n",
       "25%      0.000000    0.000000    0.000000    0.000000    0.000000    0.000000   \n",
       "50%      0.000000    0.000000    0.000000    0.000000    0.000000    0.000000   \n",
       "75%      0.000000    0.000000    0.000000    0.000000    0.000000    0.000000   \n",
       "max      1.000000    1.000000    1.000000    1.000000    1.000000    1.000000   \n",
       "\n",
       "         monthnov    monthoct    monthsep  \n",
       "count  517.000000  517.000000  517.000000  \n",
       "mean     0.001934    0.029014    0.332689  \n",
       "std      0.043980    0.168007    0.471632  \n",
       "min      0.000000    0.000000    0.000000  \n",
       "25%      0.000000    0.000000    0.000000  \n",
       "50%      0.000000    0.000000    0.000000  \n",
       "75%      0.000000    0.000000    1.000000  \n",
       "max      1.000000    1.000000    1.000000  \n",
       "\n",
       "[8 rows x 28 columns]"
      ]
     },
     "execution_count": 24,
     "metadata": {},
     "output_type": "execute_result"
    }
   ],
   "source": [
    "fireforests.describe()"
   ]
  },
  {
   "cell_type": "code",
   "execution_count": 25,
   "id": "0577456a",
   "metadata": {},
   "outputs": [
    {
     "data": {
      "text/plain": [
       "FFMC        float64\n",
       "DMC         float64\n",
       "DC          float64\n",
       "ISI         float64\n",
       "temp        float64\n",
       "RH            int64\n",
       "wind        float64\n",
       "rain        float64\n",
       "area        float64\n",
       "dayfri        int64\n",
       "daymon        int64\n",
       "daysat        int64\n",
       "daysun        int64\n",
       "daythu        int64\n",
       "daytue        int64\n",
       "daywed        int64\n",
       "monthapr      int64\n",
       "monthaug      int64\n",
       "monthdec      int64\n",
       "monthfeb      int64\n",
       "monthjan      int64\n",
       "monthjul      int64\n",
       "monthjun      int64\n",
       "monthmar      int64\n",
       "monthmay      int64\n",
       "monthnov      int64\n",
       "monthoct      int64\n",
       "monthsep      int64\n",
       "dtype: object"
      ]
     },
     "execution_count": 25,
     "metadata": {},
     "output_type": "execute_result"
    }
   ],
   "source": [
    "#data types        \n",
    "fireforests.dtypes"
   ]
  },
  {
   "cell_type": "code",
   "execution_count": 26,
   "id": "a3fe573c",
   "metadata": {},
   "outputs": [
    {
     "data": {
      "text/plain": [
       "FFMC        0\n",
       "DMC         0\n",
       "DC          0\n",
       "ISI         0\n",
       "temp        0\n",
       "RH          0\n",
       "wind        0\n",
       "rain        0\n",
       "area        0\n",
       "dayfri      0\n",
       "daymon      0\n",
       "daysat      0\n",
       "daysun      0\n",
       "daythu      0\n",
       "daytue      0\n",
       "daywed      0\n",
       "monthapr    0\n",
       "monthaug    0\n",
       "monthdec    0\n",
       "monthfeb    0\n",
       "monthjan    0\n",
       "monthjul    0\n",
       "monthjun    0\n",
       "monthmar    0\n",
       "monthmay    0\n",
       "monthnov    0\n",
       "monthoct    0\n",
       "monthsep    0\n",
       "dtype: int64"
      ]
     },
     "execution_count": 26,
     "metadata": {},
     "output_type": "execute_result"
    }
   ],
   "source": [
    "#checking for na and null value\n",
    "fireforests.isna().sum()"
   ]
  },
  {
   "cell_type": "code",
   "execution_count": 27,
   "id": "681ea2af",
   "metadata": {},
   "outputs": [
    {
     "data": {
      "text/plain": [
       "FFMC        0\n",
       "DMC         0\n",
       "DC          0\n",
       "ISI         0\n",
       "temp        0\n",
       "RH          0\n",
       "wind        0\n",
       "rain        0\n",
       "area        0\n",
       "dayfri      0\n",
       "daymon      0\n",
       "daysat      0\n",
       "daysun      0\n",
       "daythu      0\n",
       "daytue      0\n",
       "daywed      0\n",
       "monthapr    0\n",
       "monthaug    0\n",
       "monthdec    0\n",
       "monthfeb    0\n",
       "monthjan    0\n",
       "monthjul    0\n",
       "monthjun    0\n",
       "monthmar    0\n",
       "monthmay    0\n",
       "monthnov    0\n",
       "monthoct    0\n",
       "monthsep    0\n",
       "dtype: int64"
      ]
     },
     "execution_count": 27,
     "metadata": {},
     "output_type": "execute_result"
    }
   ],
   "source": [
    "fireforests.isnull().sum()"
   ]
  },
  {
   "cell_type": "code",
   "execution_count": 28,
   "id": "4ecd4c00",
   "metadata": {},
   "outputs": [
    {
     "data": {
      "text/plain": [
       "FFMC        106\n",
       "DMC         215\n",
       "DC          219\n",
       "ISI         119\n",
       "temp        192\n",
       "RH           75\n",
       "wind         21\n",
       "rain          7\n",
       "area        251\n",
       "dayfri        2\n",
       "daymon        2\n",
       "daysat        2\n",
       "daysun        2\n",
       "daythu        2\n",
       "daytue        2\n",
       "daywed        2\n",
       "monthapr      2\n",
       "monthaug      2\n",
       "monthdec      2\n",
       "monthfeb      2\n",
       "monthjan      2\n",
       "monthjul      2\n",
       "monthjun      2\n",
       "monthmar      2\n",
       "monthmay      2\n",
       "monthnov      2\n",
       "monthoct      2\n",
       "monthsep      2\n",
       "dtype: int64"
      ]
     },
     "execution_count": 28,
     "metadata": {},
     "output_type": "execute_result"
    }
   ],
   "source": [
    "#checking unique value for each columns\n",
    "fireforests.nunique()"
   ]
  },
  {
   "cell_type": "code",
   "execution_count": 29,
   "id": "8b33f9eb",
   "metadata": {},
   "outputs": [
    {
     "data": {
      "text/plain": [
       "{'column ': Index(['FFMC', 'DMC', 'DC', 'ISI', 'temp', 'RH', 'wind', 'rain', 'area',\n",
       "        'dayfri', 'daymon', 'daysat', 'daysun', 'daythu', 'daytue', 'daywed',\n",
       "        'monthapr', 'monthaug', 'monthdec', 'monthfeb', 'monthjan', 'monthjul',\n",
       "        'monthjun', 'monthmar', 'monthmay', 'monthnov', 'monthoct', 'monthsep'],\n",
       "       dtype='object'),\n",
       " 'mean': FFMC         90.644681\n",
       " DMC         110.872340\n",
       " DC          547.940039\n",
       " ISI           9.021663\n",
       " temp         18.889168\n",
       " RH           44.288201\n",
       " wind          4.017602\n",
       " rain          0.021663\n",
       " area         12.847292\n",
       " dayfri        0.164410\n",
       " daymon        0.143133\n",
       " daysat        0.162476\n",
       " daysun        0.183752\n",
       " daythu        0.117988\n",
       " daytue        0.123791\n",
       " daywed        0.104449\n",
       " monthapr      0.017408\n",
       " monthaug      0.355899\n",
       " monthdec      0.017408\n",
       " monthfeb      0.038685\n",
       " monthjan      0.003868\n",
       " monthjul      0.061896\n",
       " monthjun      0.032882\n",
       " monthmar      0.104449\n",
       " monthmay      0.003868\n",
       " monthnov      0.001934\n",
       " monthoct      0.029014\n",
       " monthsep      0.332689\n",
       " dtype: float64,\n",
       " 'median': FFMC         91.60\n",
       " DMC         108.30\n",
       " DC          664.20\n",
       " ISI           8.40\n",
       " temp         19.30\n",
       " RH           42.00\n",
       " wind          4.00\n",
       " rain          0.00\n",
       " area          0.52\n",
       " dayfri        0.00\n",
       " daymon        0.00\n",
       " daysat        0.00\n",
       " daysun        0.00\n",
       " daythu        0.00\n",
       " daytue        0.00\n",
       " daywed        0.00\n",
       " monthapr      0.00\n",
       " monthaug      0.00\n",
       " monthdec      0.00\n",
       " monthfeb      0.00\n",
       " monthjan      0.00\n",
       " monthjul      0.00\n",
       " monthjun      0.00\n",
       " monthmar      0.00\n",
       " monthmay      0.00\n",
       " monthnov      0.00\n",
       " monthoct      0.00\n",
       " monthsep      0.00\n",
       " dtype: float64,\n",
       " 'mode':    FFMC   DMC     DC  ISI  temp    RH  wind  rain  area  dayfri  ...  \\\n",
       " 0  91.6  99.0  745.3  9.6  17.4  27.0   2.2   0.0   0.0     0.0  ...   \n",
       " 1  92.1   NaN    NaN  NaN  19.6   NaN   3.1   NaN   NaN     NaN  ...   \n",
       " \n",
       "    monthdec  monthfeb  monthjan  monthjul  monthjun  monthmar  monthmay  \\\n",
       " 0       0.0       0.0       0.0       0.0       0.0       0.0       0.0   \n",
       " 1       NaN       NaN       NaN       NaN       NaN       NaN       NaN   \n",
       " \n",
       "    monthnov  monthoct  monthsep  \n",
       " 0       0.0       0.0       0.0  \n",
       " 1       NaN       NaN       NaN  \n",
       " \n",
       " [2 rows x 28 columns],\n",
       " 'standard deviation': FFMC          5.520111\n",
       " DMC          64.046482\n",
       " DC          248.066192\n",
       " ISI           4.559477\n",
       " temp          5.806625\n",
       " RH           16.317469\n",
       " wind          1.791653\n",
       " rain          0.295959\n",
       " area         63.655818\n",
       " dayfri        0.371006\n",
       " daymon        0.350548\n",
       " daysat        0.369244\n",
       " daysun        0.387657\n",
       " daythu        0.322907\n",
       " daytue        0.329662\n",
       " daywed        0.306138\n",
       " monthapr      0.130913\n",
       " monthaug      0.479249\n",
       " monthdec      0.130913\n",
       " monthfeb      0.193029\n",
       " monthjan      0.062137\n",
       " monthjul      0.241199\n",
       " monthjun      0.178500\n",
       " monthmar      0.306138\n",
       " monthmay      0.062137\n",
       " monthnov      0.043980\n",
       " monthoct      0.168007\n",
       " monthsep      0.471632\n",
       " dtype: float64,\n",
       " 'variance': FFMC           30.471624\n",
       " DMC          4101.951889\n",
       " DC          61536.835467\n",
       " ISI            20.788832\n",
       " temp           33.716898\n",
       " RH            266.259802\n",
       " wind            3.210019\n",
       " rain            0.087592\n",
       " area         4052.063225\n",
       " dayfri          0.137646\n",
       " daymon          0.122884\n",
       " daysat          0.136341\n",
       " daysun          0.150278\n",
       " daythu          0.104269\n",
       " daytue          0.108677\n",
       " daywed          0.093720\n",
       " monthapr        0.017138\n",
       " monthaug        0.229679\n",
       " monthdec        0.017138\n",
       " monthfeb        0.037260\n",
       " monthjan        0.003861\n",
       " monthjul        0.058177\n",
       " monthjun        0.031862\n",
       " monthmar        0.093720\n",
       " monthmay        0.003861\n",
       " monthnov        0.001934\n",
       " monthoct        0.028226\n",
       " monthsep        0.222437\n",
       " dtype: float64,\n",
       " 'skewness': FFMC        -6.575606\n",
       " DMC          0.547498\n",
       " DC          -1.100445\n",
       " ISI          2.536325\n",
       " temp        -0.331172\n",
       " RH           0.862904\n",
       " wind         0.571001\n",
       " rain        19.816344\n",
       " area        12.846934\n",
       " dayfri       1.816105\n",
       " daymon       2.043956\n",
       " daysat       1.835290\n",
       " daysun       1.637920\n",
       " daythu       2.375268\n",
       " daytue       2.291255\n",
       " daywed       2.594172\n",
       " monthapr     7.401340\n",
       " monthaug     0.603696\n",
       " monthdec     7.401340\n",
       " monthfeb     4.798308\n",
       " monthjan    16.031038\n",
       " monthjul     3.646828\n",
       " monthjun     5.254127\n",
       " monthmar     2.594172\n",
       " monthmay    16.031038\n",
       " monthnov    22.737634\n",
       " monthoct     5.628522\n",
       " monthsep     0.712255\n",
       " dtype: float64,\n",
       " 'kurtosis': FFMC         67.066041\n",
       " DMC           0.204822\n",
       " DC           -0.245244\n",
       " ISI          21.458037\n",
       " temp          0.136166\n",
       " RH            0.438183\n",
       " wind          0.054324\n",
       " rain        421.295964\n",
       " area        194.140721\n",
       " dayfri        1.303265\n",
       " daymon        2.186198\n",
       " daysat        1.373589\n",
       " daysun        0.685418\n",
       " daythu        3.656027\n",
       " daytue        3.262455\n",
       " daywed        4.748083\n",
       " monthapr     52.984784\n",
       " monthaug     -1.641918\n",
       " monthdec     52.984784\n",
       " monthfeb     21.105386\n",
       " monthjan    255.984443\n",
       " monthjul     11.343218\n",
       " monthjun     25.705276\n",
       " monthmar      4.748083\n",
       " monthmay    255.984443\n",
       " monthnov    517.000000\n",
       " monthoct     29.795509\n",
       " monthsep     -1.498505\n",
       " dtype: float64}"
      ]
     },
     "execution_count": 29,
     "metadata": {},
     "output_type": "execute_result"
    }
   ],
   "source": [
    "#Performing EDA\n",
    "EDA ={\"column \": fireforests.columns,\n",
    "      \"mean\": fireforests.mean(),\n",
    "      \"median\":fireforests.median(),\n",
    "      \"mode\":fireforests.mode(),\n",
    "      \"standard deviation\": fireforests.std(),\n",
    "      \"variance\":fireforests.var(),\n",
    "      \"skewness\":fireforests.skew(),\n",
    "      \"kurtosis\":fireforests.kurt()}\n",
    "\n",
    "EDA"
   ]
  },
  {
   "cell_type": "code",
   "execution_count": 30,
   "id": "38c12644",
   "metadata": {},
   "outputs": [
    {
     "data": {
      "text/plain": [
       "FFMC           30.471624\n",
       "DMC          4101.951889\n",
       "DC          61536.835467\n",
       "ISI            20.788832\n",
       "temp           33.716898\n",
       "RH            266.259802\n",
       "wind            3.210019\n",
       "rain            0.087592\n",
       "area         4052.063225\n",
       "dayfri          0.137646\n",
       "daymon          0.122884\n",
       "daysat          0.136341\n",
       "daysun          0.150278\n",
       "daythu          0.104269\n",
       "daytue          0.108677\n",
       "daywed          0.093720\n",
       "monthapr        0.017138\n",
       "monthaug        0.229679\n",
       "monthdec        0.017138\n",
       "monthfeb        0.037260\n",
       "monthjan        0.003861\n",
       "monthjul        0.058177\n",
       "monthjun        0.031862\n",
       "monthmar        0.093720\n",
       "monthmay        0.003861\n",
       "monthnov        0.001934\n",
       "monthoct        0.028226\n",
       "monthsep        0.222437\n",
       "dtype: float64"
      ]
     },
     "execution_count": 30,
     "metadata": {},
     "output_type": "execute_result"
    }
   ],
   "source": [
    "#variance for each column\n",
    "fireforests.var() "
   ]
  },
  {
   "cell_type": "code",
   "execution_count": 31,
   "id": "768517d6",
   "metadata": {},
   "outputs": [],
   "source": [
    "# Normalization function using z std. all are continuous data.\n",
    "def norm_func(i):\n",
    "    x = (i-i.mean())/(i.std())\n",
    "    return (x)"
   ]
  },
  {
   "cell_type": "code",
   "execution_count": 32,
   "id": "cf0aa490",
   "metadata": {},
   "outputs": [],
   "source": [
    "# Normalized data frame (considering the numerical part of data)\n",
    "out = fireforests['area']\n",
    "inp = ['FFMC', 'DMC', 'DC', 'ISI', 'temp', 'RH', 'wind', 'rain',\n",
    "       'dayfri', 'daymon', 'daysat', 'daysun', 'daythu', 'daytue', 'daywed',\n",
    "       'monthapr', 'monthaug', 'monthdec', 'monthfeb', 'monthjan', 'monthjul',\n",
    "       'monthjun', 'monthmar', 'monthmay', 'monthnov', 'monthoct', 'monthsep']\n",
    "\n",
    "df = norm_func(fireforests[inp])"
   ]
  },
  {
   "cell_type": "code",
   "execution_count": 33,
   "id": "18f4be09",
   "metadata": {},
   "outputs": [],
   "source": [
    "#final dataframe\n",
    "model_df = pd.concat([out,df], axis =1)\n",
    "model_df.describe()\n",
    "\n",
    "np.random.seed(10)"
   ]
  },
  {
   "cell_type": "code",
   "execution_count": 34,
   "id": "d1ca69f0",
   "metadata": {},
   "outputs": [],
   "source": [
    "from sklearn.model_selection import train_test_split\n",
    "model_df_train, model_df_test = train_test_split(model_df, test_size = 0.2,random_state = 457) # 20% test data\n",
    "\n",
    "x_train = model_df_train.iloc[:,1:].values.astype(\"float32\")\n",
    "y_train = model_df_train.iloc[:,0].values.astype(\"float32\")\n",
    "x_test = model_df_test.iloc[:,1:].values.astype(\"float32\")\n",
    "y_test = model_df_test.iloc[:,0].values.astype(\"float32\")"
   ]
  },
  {
   "cell_type": "code",
   "execution_count": 35,
   "id": "1032dd86",
   "metadata": {},
   "outputs": [
    {
     "name": "stderr",
     "output_type": "stream",
     "text": [
      "C:\\Users\\jeeva\\anaconda3\\lib\\site-packages\\sklearn\\neural_network\\_multilayer_perceptron.py:692: ConvergenceWarning: Stochastic Optimizer: Maximum iterations (10) reached and the optimization hasn't converged yet.\n",
      "  warnings.warn(\n"
     ]
    },
    {
     "data": {
      "text/plain": [
       "MLPRegressor(activation='tanh', hidden_layer_sizes=(10, 10), max_iter=10)"
      ]
     },
     "execution_count": 35,
     "metadata": {},
     "output_type": "execute_result"
    }
   ],
   "source": [
    "#building model\n",
    "from sklearn.neural_network import MLPRegressor\n",
    "model = MLPRegressor(hidden_layer_sizes=(10,10,),activation='tanh', max_iter=10)\n",
    "model.fit(x_train,y_train)"
   ]
  },
  {
   "cell_type": "code",
   "execution_count": 36,
   "id": "4bf0fd03",
   "metadata": {},
   "outputs": [
    {
     "name": "stdout",
     "output_type": "stream",
     "text": [
      "error on test data 20.677696\n"
     ]
    }
   ],
   "source": [
    "# Evaluating the model on test data using mean absolute square error\n",
    "from sklearn import metrics\n",
    "mae1 = metrics.mean_absolute_error(y_test, model.predict(x_test))\n",
    "print (\"error on test data\", mae1) "
   ]
  },
  {
   "cell_type": "code",
   "execution_count": 37,
   "id": "350d29a5",
   "metadata": {},
   "outputs": [
    {
     "name": "stdout",
     "output_type": "stream",
     "text": [
      "error on train data:  11.867183\n"
     ]
    }
   ],
   "source": [
    "# Evaluating the model on train data \n",
    "mae2 = metrics.mean_absolute_error(y_train, model.predict(x_train))\n",
    "print(\"error on train data: \",mae2)"
   ]
  },
  {
   "cell_type": "markdown",
   "id": "0c03cace",
   "metadata": {},
   "source": [
    "#### Problem 3:\n",
    "The following dataset consists of 1030 instances with 9 attributes and has no missing values. There are 8 input variables and 1 output variable. Seven input variables represent the amount of raw material (measured in kg/m³) and one represents Age (in Days). The target variable is Concrete Compressive Strength measured in (Mega Pascal). Build a Neural network model to predict the compressive strength."
   ]
  },
  {
   "cell_type": "code",
   "execution_count": 38,
   "id": "67cfee3a",
   "metadata": {},
   "outputs": [],
   "source": [
    "#loading the dataset\n",
    "concrete = pd.read_csv(r\"D:\\360 Data Science 360DigiTMG\\Day41-NeuralNetwork\\Datasets_ANN Assignment\\concrete.csv\")\n",
    "        "
   ]
  },
  {
   "cell_type": "code",
   "execution_count": 39,
   "id": "0f4d2aaf",
   "metadata": {},
   "outputs": [
    {
     "name": "stdout",
     "output_type": "stream",
     "text": [
      "<class 'pandas.core.frame.DataFrame'>\n",
      "RangeIndex: 1030 entries, 0 to 1029\n",
      "Data columns (total 9 columns):\n",
      " #   Column        Non-Null Count  Dtype  \n",
      "---  ------        --------------  -----  \n",
      " 0   cement        1030 non-null   float64\n",
      " 1   slag          1030 non-null   float64\n",
      " 2   ash           1030 non-null   float64\n",
      " 3   water         1030 non-null   float64\n",
      " 4   superplastic  1030 non-null   float64\n",
      " 5   coarseagg     1030 non-null   float64\n",
      " 6   fineagg       1030 non-null   float64\n",
      " 7   age           1030 non-null   int64  \n",
      " 8   strength      1030 non-null   float64\n",
      "dtypes: float64(8), int64(1)\n",
      "memory usage: 72.5 KB\n"
     ]
    }
   ],
   "source": [
    "#details of rpl \n",
    "concrete.info()"
   ]
  },
  {
   "cell_type": "code",
   "execution_count": 40,
   "id": "9f6e5dcf",
   "metadata": {},
   "outputs": [
    {
     "data": {
      "text/html": [
       "<div>\n",
       "<style scoped>\n",
       "    .dataframe tbody tr th:only-of-type {\n",
       "        vertical-align: middle;\n",
       "    }\n",
       "\n",
       "    .dataframe tbody tr th {\n",
       "        vertical-align: top;\n",
       "    }\n",
       "\n",
       "    .dataframe thead th {\n",
       "        text-align: right;\n",
       "    }\n",
       "</style>\n",
       "<table border=\"1\" class=\"dataframe\">\n",
       "  <thead>\n",
       "    <tr style=\"text-align: right;\">\n",
       "      <th></th>\n",
       "      <th>cement</th>\n",
       "      <th>slag</th>\n",
       "      <th>ash</th>\n",
       "      <th>water</th>\n",
       "      <th>superplastic</th>\n",
       "      <th>coarseagg</th>\n",
       "      <th>fineagg</th>\n",
       "      <th>age</th>\n",
       "      <th>strength</th>\n",
       "    </tr>\n",
       "  </thead>\n",
       "  <tbody>\n",
       "    <tr>\n",
       "      <th>count</th>\n",
       "      <td>1030.000000</td>\n",
       "      <td>1030.000000</td>\n",
       "      <td>1030.000000</td>\n",
       "      <td>1030.000000</td>\n",
       "      <td>1030.000000</td>\n",
       "      <td>1030.000000</td>\n",
       "      <td>1030.000000</td>\n",
       "      <td>1030.000000</td>\n",
       "      <td>1030.000000</td>\n",
       "    </tr>\n",
       "    <tr>\n",
       "      <th>mean</th>\n",
       "      <td>281.167864</td>\n",
       "      <td>73.895825</td>\n",
       "      <td>54.188350</td>\n",
       "      <td>181.567282</td>\n",
       "      <td>6.204660</td>\n",
       "      <td>972.918932</td>\n",
       "      <td>773.580485</td>\n",
       "      <td>45.662136</td>\n",
       "      <td>35.817961</td>\n",
       "    </tr>\n",
       "    <tr>\n",
       "      <th>std</th>\n",
       "      <td>104.506364</td>\n",
       "      <td>86.279342</td>\n",
       "      <td>63.997004</td>\n",
       "      <td>21.354219</td>\n",
       "      <td>5.973841</td>\n",
       "      <td>77.753954</td>\n",
       "      <td>80.175980</td>\n",
       "      <td>63.169912</td>\n",
       "      <td>16.705742</td>\n",
       "    </tr>\n",
       "    <tr>\n",
       "      <th>min</th>\n",
       "      <td>102.000000</td>\n",
       "      <td>0.000000</td>\n",
       "      <td>0.000000</td>\n",
       "      <td>121.800000</td>\n",
       "      <td>0.000000</td>\n",
       "      <td>801.000000</td>\n",
       "      <td>594.000000</td>\n",
       "      <td>1.000000</td>\n",
       "      <td>2.330000</td>\n",
       "    </tr>\n",
       "    <tr>\n",
       "      <th>25%</th>\n",
       "      <td>192.375000</td>\n",
       "      <td>0.000000</td>\n",
       "      <td>0.000000</td>\n",
       "      <td>164.900000</td>\n",
       "      <td>0.000000</td>\n",
       "      <td>932.000000</td>\n",
       "      <td>730.950000</td>\n",
       "      <td>7.000000</td>\n",
       "      <td>23.710000</td>\n",
       "    </tr>\n",
       "    <tr>\n",
       "      <th>50%</th>\n",
       "      <td>272.900000</td>\n",
       "      <td>22.000000</td>\n",
       "      <td>0.000000</td>\n",
       "      <td>185.000000</td>\n",
       "      <td>6.400000</td>\n",
       "      <td>968.000000</td>\n",
       "      <td>779.500000</td>\n",
       "      <td>28.000000</td>\n",
       "      <td>34.445000</td>\n",
       "    </tr>\n",
       "    <tr>\n",
       "      <th>75%</th>\n",
       "      <td>350.000000</td>\n",
       "      <td>142.950000</td>\n",
       "      <td>118.300000</td>\n",
       "      <td>192.000000</td>\n",
       "      <td>10.200000</td>\n",
       "      <td>1029.400000</td>\n",
       "      <td>824.000000</td>\n",
       "      <td>56.000000</td>\n",
       "      <td>46.135000</td>\n",
       "    </tr>\n",
       "    <tr>\n",
       "      <th>max</th>\n",
       "      <td>540.000000</td>\n",
       "      <td>359.400000</td>\n",
       "      <td>200.100000</td>\n",
       "      <td>247.000000</td>\n",
       "      <td>32.200000</td>\n",
       "      <td>1145.000000</td>\n",
       "      <td>992.600000</td>\n",
       "      <td>365.000000</td>\n",
       "      <td>82.600000</td>\n",
       "    </tr>\n",
       "  </tbody>\n",
       "</table>\n",
       "</div>"
      ],
      "text/plain": [
       "            cement         slag          ash        water  superplastic  \\\n",
       "count  1030.000000  1030.000000  1030.000000  1030.000000   1030.000000   \n",
       "mean    281.167864    73.895825    54.188350   181.567282      6.204660   \n",
       "std     104.506364    86.279342    63.997004    21.354219      5.973841   \n",
       "min     102.000000     0.000000     0.000000   121.800000      0.000000   \n",
       "25%     192.375000     0.000000     0.000000   164.900000      0.000000   \n",
       "50%     272.900000    22.000000     0.000000   185.000000      6.400000   \n",
       "75%     350.000000   142.950000   118.300000   192.000000     10.200000   \n",
       "max     540.000000   359.400000   200.100000   247.000000     32.200000   \n",
       "\n",
       "         coarseagg      fineagg          age     strength  \n",
       "count  1030.000000  1030.000000  1030.000000  1030.000000  \n",
       "mean    972.918932   773.580485    45.662136    35.817961  \n",
       "std      77.753954    80.175980    63.169912    16.705742  \n",
       "min     801.000000   594.000000     1.000000     2.330000  \n",
       "25%     932.000000   730.950000     7.000000    23.710000  \n",
       "50%     968.000000   779.500000    28.000000    34.445000  \n",
       "75%    1029.400000   824.000000    56.000000    46.135000  \n",
       "max    1145.000000   992.600000   365.000000    82.600000  "
      ]
     },
     "execution_count": 40,
     "metadata": {},
     "output_type": "execute_result"
    }
   ],
   "source": [
    "concrete.describe()"
   ]
  },
  {
   "cell_type": "code",
   "execution_count": 41,
   "id": "6d5d0d84",
   "metadata": {},
   "outputs": [
    {
     "data": {
      "text/plain": [
       "cement          float64\n",
       "slag            float64\n",
       "ash             float64\n",
       "water           float64\n",
       "superplastic    float64\n",
       "coarseagg       float64\n",
       "fineagg         float64\n",
       "age               int64\n",
       "strength        float64\n",
       "dtype: object"
      ]
     },
     "execution_count": 41,
     "metadata": {},
     "output_type": "execute_result"
    }
   ],
   "source": [
    "#data types        \n",
    "concrete.dtypes"
   ]
  },
  {
   "cell_type": "code",
   "execution_count": 42,
   "id": "18c2958d",
   "metadata": {},
   "outputs": [
    {
     "data": {
      "text/plain": [
       "cement          0\n",
       "slag            0\n",
       "ash             0\n",
       "water           0\n",
       "superplastic    0\n",
       "coarseagg       0\n",
       "fineagg         0\n",
       "age             0\n",
       "strength        0\n",
       "dtype: int64"
      ]
     },
     "execution_count": 42,
     "metadata": {},
     "output_type": "execute_result"
    }
   ],
   "source": [
    "#checking for na and null value\n",
    "concrete.isna().sum()"
   ]
  },
  {
   "cell_type": "code",
   "execution_count": 43,
   "id": "7370e0e0",
   "metadata": {},
   "outputs": [
    {
     "data": {
      "text/plain": [
       "cement          0\n",
       "slag            0\n",
       "ash             0\n",
       "water           0\n",
       "superplastic    0\n",
       "coarseagg       0\n",
       "fineagg         0\n",
       "age             0\n",
       "strength        0\n",
       "dtype: int64"
      ]
     },
     "execution_count": 43,
     "metadata": {},
     "output_type": "execute_result"
    }
   ],
   "source": [
    "concrete.isnull().sum()"
   ]
  },
  {
   "cell_type": "code",
   "execution_count": 79,
   "id": "e65ef2a6",
   "metadata": {},
   "outputs": [
    {
     "data": {
      "text/html": [
       "<div>\n",
       "<style scoped>\n",
       "    .dataframe tbody tr th:only-of-type {\n",
       "        vertical-align: middle;\n",
       "    }\n",
       "\n",
       "    .dataframe tbody tr th {\n",
       "        vertical-align: top;\n",
       "    }\n",
       "\n",
       "    .dataframe thead th {\n",
       "        text-align: right;\n",
       "    }\n",
       "</style>\n",
       "<table border=\"1\" class=\"dataframe\">\n",
       "  <thead>\n",
       "    <tr style=\"text-align: right;\">\n",
       "      <th></th>\n",
       "      <th>cement</th>\n",
       "      <th>slag</th>\n",
       "      <th>ash</th>\n",
       "      <th>water</th>\n",
       "      <th>superplastic</th>\n",
       "      <th>coarseagg</th>\n",
       "      <th>fineagg</th>\n",
       "      <th>age</th>\n",
       "      <th>strength</th>\n",
       "    </tr>\n",
       "  </thead>\n",
       "  <tbody>\n",
       "    <tr>\n",
       "      <th>0</th>\n",
       "      <td>141.3</td>\n",
       "      <td>212.0</td>\n",
       "      <td>0.0</td>\n",
       "      <td>203.5</td>\n",
       "      <td>0.0</td>\n",
       "      <td>971.8</td>\n",
       "      <td>748.5</td>\n",
       "      <td>28</td>\n",
       "      <td>29.89</td>\n",
       "    </tr>\n",
       "    <tr>\n",
       "      <th>1</th>\n",
       "      <td>168.9</td>\n",
       "      <td>42.2</td>\n",
       "      <td>124.3</td>\n",
       "      <td>158.3</td>\n",
       "      <td>10.8</td>\n",
       "      <td>1080.8</td>\n",
       "      <td>796.2</td>\n",
       "      <td>14</td>\n",
       "      <td>23.51</td>\n",
       "    </tr>\n",
       "    <tr>\n",
       "      <th>2</th>\n",
       "      <td>250.0</td>\n",
       "      <td>0.0</td>\n",
       "      <td>95.7</td>\n",
       "      <td>187.4</td>\n",
       "      <td>5.5</td>\n",
       "      <td>956.9</td>\n",
       "      <td>861.2</td>\n",
       "      <td>28</td>\n",
       "      <td>29.22</td>\n",
       "    </tr>\n",
       "    <tr>\n",
       "      <th>3</th>\n",
       "      <td>266.0</td>\n",
       "      <td>114.0</td>\n",
       "      <td>0.0</td>\n",
       "      <td>228.0</td>\n",
       "      <td>0.0</td>\n",
       "      <td>932.0</td>\n",
       "      <td>670.0</td>\n",
       "      <td>28</td>\n",
       "      <td>45.85</td>\n",
       "    </tr>\n",
       "    <tr>\n",
       "      <th>4</th>\n",
       "      <td>154.8</td>\n",
       "      <td>183.4</td>\n",
       "      <td>0.0</td>\n",
       "      <td>193.3</td>\n",
       "      <td>9.1</td>\n",
       "      <td>1047.4</td>\n",
       "      <td>696.7</td>\n",
       "      <td>28</td>\n",
       "      <td>18.29</td>\n",
       "    </tr>\n",
       "    <tr>\n",
       "      <th>...</th>\n",
       "      <td>...</td>\n",
       "      <td>...</td>\n",
       "      <td>...</td>\n",
       "      <td>...</td>\n",
       "      <td>...</td>\n",
       "      <td>...</td>\n",
       "      <td>...</td>\n",
       "      <td>...</td>\n",
       "      <td>...</td>\n",
       "    </tr>\n",
       "    <tr>\n",
       "      <th>1025</th>\n",
       "      <td>135.0</td>\n",
       "      <td>0.0</td>\n",
       "      <td>166.0</td>\n",
       "      <td>180.0</td>\n",
       "      <td>10.0</td>\n",
       "      <td>961.0</td>\n",
       "      <td>805.0</td>\n",
       "      <td>28</td>\n",
       "      <td>13.29</td>\n",
       "    </tr>\n",
       "    <tr>\n",
       "      <th>1026</th>\n",
       "      <td>531.3</td>\n",
       "      <td>0.0</td>\n",
       "      <td>0.0</td>\n",
       "      <td>141.8</td>\n",
       "      <td>28.2</td>\n",
       "      <td>852.1</td>\n",
       "      <td>893.7</td>\n",
       "      <td>3</td>\n",
       "      <td>41.30</td>\n",
       "    </tr>\n",
       "    <tr>\n",
       "      <th>1027</th>\n",
       "      <td>276.4</td>\n",
       "      <td>116.0</td>\n",
       "      <td>90.3</td>\n",
       "      <td>179.6</td>\n",
       "      <td>8.9</td>\n",
       "      <td>870.1</td>\n",
       "      <td>768.3</td>\n",
       "      <td>28</td>\n",
       "      <td>44.28</td>\n",
       "    </tr>\n",
       "    <tr>\n",
       "      <th>1028</th>\n",
       "      <td>342.0</td>\n",
       "      <td>38.0</td>\n",
       "      <td>0.0</td>\n",
       "      <td>228.0</td>\n",
       "      <td>0.0</td>\n",
       "      <td>932.0</td>\n",
       "      <td>670.0</td>\n",
       "      <td>270</td>\n",
       "      <td>55.06</td>\n",
       "    </tr>\n",
       "    <tr>\n",
       "      <th>1029</th>\n",
       "      <td>540.0</td>\n",
       "      <td>0.0</td>\n",
       "      <td>0.0</td>\n",
       "      <td>173.0</td>\n",
       "      <td>0.0</td>\n",
       "      <td>1125.0</td>\n",
       "      <td>613.0</td>\n",
       "      <td>7</td>\n",
       "      <td>52.61</td>\n",
       "    </tr>\n",
       "  </tbody>\n",
       "</table>\n",
       "<p>1030 rows × 9 columns</p>\n",
       "</div>"
      ],
      "text/plain": [
       "      cement   slag    ash  water  superplastic  coarseagg  fineagg  age  \\\n",
       "0      141.3  212.0    0.0  203.5           0.0      971.8    748.5   28   \n",
       "1      168.9   42.2  124.3  158.3          10.8     1080.8    796.2   14   \n",
       "2      250.0    0.0   95.7  187.4           5.5      956.9    861.2   28   \n",
       "3      266.0  114.0    0.0  228.0           0.0      932.0    670.0   28   \n",
       "4      154.8  183.4    0.0  193.3           9.1     1047.4    696.7   28   \n",
       "...      ...    ...    ...    ...           ...        ...      ...  ...   \n",
       "1025   135.0    0.0  166.0  180.0          10.0      961.0    805.0   28   \n",
       "1026   531.3    0.0    0.0  141.8          28.2      852.1    893.7    3   \n",
       "1027   276.4  116.0   90.3  179.6           8.9      870.1    768.3   28   \n",
       "1028   342.0   38.0    0.0  228.0           0.0      932.0    670.0  270   \n",
       "1029   540.0    0.0    0.0  173.0           0.0     1125.0    613.0    7   \n",
       "\n",
       "      strength  \n",
       "0        29.89  \n",
       "1        23.51  \n",
       "2        29.22  \n",
       "3        45.85  \n",
       "4        18.29  \n",
       "...        ...  \n",
       "1025     13.29  \n",
       "1026     41.30  \n",
       "1027     44.28  \n",
       "1028     55.06  \n",
       "1029     52.61  \n",
       "\n",
       "[1030 rows x 9 columns]"
      ]
     },
     "execution_count": 79,
     "metadata": {},
     "output_type": "execute_result"
    }
   ],
   "source": [
    "concrete"
   ]
  },
  {
   "cell_type": "code",
   "execution_count": 44,
   "id": "22065f98",
   "metadata": {},
   "outputs": [
    {
     "data": {
      "text/plain": [
       "cement          278\n",
       "slag            185\n",
       "ash             156\n",
       "water           195\n",
       "superplastic    111\n",
       "coarseagg       284\n",
       "fineagg         302\n",
       "age              14\n",
       "strength        845\n",
       "dtype: int64"
      ]
     },
     "execution_count": 44,
     "metadata": {},
     "output_type": "execute_result"
    }
   ],
   "source": [
    "#checking unique value for each columns\n",
    "concrete.nunique()"
   ]
  },
  {
   "cell_type": "code",
   "execution_count": 45,
   "id": "14478fe0",
   "metadata": {},
   "outputs": [
    {
     "data": {
      "text/plain": [
       "{'column ': Index(['cement', 'slag', 'ash', 'water', 'superplastic', 'coarseagg',\n",
       "        'fineagg', 'age', 'strength'],\n",
       "       dtype='object'),\n",
       " 'mean': cement          281.167864\n",
       " slag             73.895825\n",
       " ash              54.188350\n",
       " water           181.567282\n",
       " superplastic      6.204660\n",
       " coarseagg       972.918932\n",
       " fineagg         773.580485\n",
       " age              45.662136\n",
       " strength         35.817961\n",
       " dtype: float64,\n",
       " 'median': cement          272.900\n",
       " slag             22.000\n",
       " ash               0.000\n",
       " water           185.000\n",
       " superplastic      6.400\n",
       " coarseagg       968.000\n",
       " fineagg         779.500\n",
       " age              28.000\n",
       " strength         34.445\n",
       " dtype: float64,\n",
       " 'mode':    cement  slag  ash  water  superplastic  coarseagg  fineagg   age  strength\n",
       " 0   362.6   0.0  0.0  192.0           0.0      932.0    594.0  28.0      33.4\n",
       " 1   425.0   NaN  NaN    NaN           NaN        NaN    755.8   NaN       NaN,\n",
       " 'standard deviation': cement          104.506364\n",
       " slag             86.279342\n",
       " ash              63.997004\n",
       " water            21.354219\n",
       " superplastic      5.973841\n",
       " coarseagg        77.753954\n",
       " fineagg          80.175980\n",
       " age              63.169912\n",
       " strength         16.705742\n",
       " dtype: float64,\n",
       " 'variance': cement          10921.580220\n",
       " slag             7444.124812\n",
       " ash              4095.616541\n",
       " water             456.002651\n",
       " superplastic       35.686781\n",
       " coarseagg        6045.677357\n",
       " fineagg          6428.187792\n",
       " age              3990.437729\n",
       " strength          279.081814\n",
       " dtype: float64,\n",
       " 'skewness': cement          0.509481\n",
       " slag            0.800717\n",
       " ash             0.537354\n",
       " water           0.074628\n",
       " superplastic    0.907203\n",
       " coarseagg      -0.040220\n",
       " fineagg        -0.253010\n",
       " age             3.269177\n",
       " strength        0.416977\n",
       " dtype: float64,\n",
       " 'kurtosis': cement          -0.520652\n",
       " slag            -0.508175\n",
       " ash             -1.328746\n",
       " water            0.122082\n",
       " superplastic     1.411269\n",
       " coarseagg       -0.599016\n",
       " fineagg         -0.102177\n",
       " age             12.168989\n",
       " strength        -0.313725\n",
       " dtype: float64}"
      ]
     },
     "execution_count": 45,
     "metadata": {},
     "output_type": "execute_result"
    }
   ],
   "source": [
    "#Performing EDA\n",
    "EDA ={\"column \": concrete.columns,\n",
    "      \"mean\": concrete.mean(),\n",
    "      \"median\":concrete.median(),\n",
    "      \"mode\":concrete.mode(),\n",
    "      \"standard deviation\": concrete.std(),\n",
    "      \"variance\":concrete.var(),\n",
    "      \"skewness\":concrete.skew(),\n",
    "      \"kurtosis\":concrete.kurt()}\n",
    "\n",
    "EDA"
   ]
  },
  {
   "cell_type": "code",
   "execution_count": 46,
   "id": "15bc4803",
   "metadata": {},
   "outputs": [
    {
     "data": {
      "text/plain": [
       "cement          10921.580220\n",
       "slag             7444.124812\n",
       "ash              4095.616541\n",
       "water             456.002651\n",
       "superplastic       35.686781\n",
       "coarseagg        6045.677357\n",
       "fineagg          6428.187792\n",
       "age              3990.437729\n",
       "strength          279.081814\n",
       "dtype: float64"
      ]
     },
     "execution_count": 46,
     "metadata": {},
     "output_type": "execute_result"
    }
   ],
   "source": [
    "#variance for each column\n",
    "concrete.var() "
   ]
  },
  {
   "cell_type": "markdown",
   "id": "8fd04086",
   "metadata": {},
   "source": [
    "#### graphical repersentation "
   ]
  },
  {
   "cell_type": "code",
   "execution_count": 48,
   "id": "dc1a4690",
   "metadata": {},
   "outputs": [],
   "source": [
    "##historgam and scatter plot\n",
    "import seaborn as sns"
   ]
  },
  {
   "cell_type": "code",
   "execution_count": null,
   "id": "822b7ce0",
   "metadata": {
    "scrolled": false
   },
   "outputs": [],
   "source": [
    "sns.pairplot(concrete,hue='water')\n"
   ]
  },
  {
   "cell_type": "code",
   "execution_count": 76,
   "id": "90f8b20e",
   "metadata": {},
   "outputs": [],
   "source": [
    "#boxplot for every columns\n",
    "import matplotlib.pyplot as plt"
   ]
  },
  {
   "cell_type": "code",
   "execution_count": 83,
   "id": "8a1e97e8",
   "metadata": {},
   "outputs": [
    {
     "data": {
      "image/png": "[encoded data removed]",
      "text/plain": [
       "<Figure size 640x480 with 1 Axes>"
      ]
     },
     "metadata": {},
     "output_type": "display_data"
    }
   ],
   "source": [
    "plt.boxplot(\"cement\", data =concrete)\n",
    "plt.show()"
   ]
  },
  {
   "cell_type": "code",
   "execution_count": 53,
   "id": "7f4de6a3",
   "metadata": {},
   "outputs": [
    {
     "name": "stderr",
     "output_type": "stream",
     "text": [
      "C:\\Users\\jeeva\\anaconda3\\lib\\site-packages\\seaborn\\_decorators.py:36: FutureWarning: Pass the following variable as a keyword arg: x. From version 0.12, the only valid positional argument will be `data`, and passing other arguments without an explicit keyword will result in an error or misinterpretation.\n",
      "  warnings.warn(\n"
     ]
    },
    {
     "data": {
      "text/plain": [
       "<AxesSubplot:xlabel='slag'>"
      ]
     },
     "execution_count": 53,
     "metadata": {},
     "output_type": "execute_result"
    }
   ],
   "source": [
    "sns.boxplot(\"slag\", data = concrete)"
   ]
  },
  {
   "cell_type": "code",
   "execution_count": 81,
   "id": "37358714",
   "metadata": {},
   "outputs": [
    {
     "data": {
      "image/png": "[encoded data removed]",
      "text/plain": [
       "<Figure size 640x480 with 1 Axes>"
      ]
     },
     "metadata": {},
     "output_type": "display_data"
    }
   ],
   "source": [
    "plt.boxplot(\"ash\", data = concrete)\n",
    "plt.show()"
   ]
  },
  {
   "cell_type": "code",
   "execution_count": 80,
   "id": "2f355070",
   "metadata": {},
   "outputs": [
    {
     "data": {
      "image/png": "[encoded data removed]",
      "text/plain": [
       "<Figure size 640x480 with 1 Axes>"
      ]
     },
     "metadata": {},
     "output_type": "display_data"
    }
   ],
   "source": [
    "plt.boxplot(\"water\", data = concrete)\n",
    "plt.show()"
   ]
  },
  {
   "cell_type": "code",
   "execution_count": 86,
   "id": "6daf682c",
   "metadata": {},
   "outputs": [
    {
     "data": {
      "image/png": "[encoded data removed]",
      "text/plain": [
       "<Figure size 2000x2000 with 72 Axes>"
      ]
     },
     "metadata": {},
     "output_type": "display_data"
    }
   ],
   "source": [
    "plt.boxplot(\"superplastic\", data =concrete)\n",
    "plt.show()"
   ]
  },
  {
   "cell_type": "code",
   "execution_count": 87,
   "id": "757d21dc",
   "metadata": {},
   "outputs": [
    {
     "data": {
      "image/png": "[encoded data removed]",
      "text/plain": [
       "<Figure size 640x480 with 1 Axes>"
      ]
     },
     "metadata": {},
     "output_type": "display_data"
    }
   ],
   "source": [
    "plt.boxplot(\"coarseagg\", data =concrete)\n",
    "plt.show()"
   ]
  },
  {
   "cell_type": "code",
   "execution_count": 88,
   "id": "97ffb292",
   "metadata": {},
   "outputs": [
    {
     "data": {
      "image/png": "[encoded data removed]",
      "text/plain": [
       "<Figure size 640x480 with 1 Axes>"
      ]
     },
     "metadata": {},
     "output_type": "display_data"
    }
   ],
   "source": [
    "plt.boxplot(\"fineagg\", data =concrete)\n",
    "plt.show()"
   ]
  },
  {
   "cell_type": "code",
   "execution_count": 89,
   "id": "20092072",
   "metadata": {},
   "outputs": [
    {
     "data": {
      "image/png": "[encoded data removed]",
      "text/plain": [
       "<Figure size 640x480 with 1 Axes>"
      ]
     },
     "metadata": {},
     "output_type": "display_data"
    }
   ],
   "source": [
    "plt.boxplot(\"age\", data =concrete)\n",
    "plt.show()"
   ]
  },
  {
   "cell_type": "code",
   "execution_count": 90,
   "id": "42d40dd5",
   "metadata": {},
   "outputs": [
    {
     "data": {
      "text/plain": [
       "<AxesSubplot:>"
      ]
     },
     "execution_count": 90,
     "metadata": {},
     "output_type": "execute_result"
    }
   ],
   "source": [
    "concrete.boxplot(column=['cement', 'slag', 'ash', 'water','superplastic' , 'coarseagg' , 'fineagg' , 'age'])  "
   ]
  },
  {
   "cell_type": "code",
   "execution_count": 91,
   "id": "6e68ab85",
   "metadata": {},
   "outputs": [],
   "source": [
    "# Normalization function using z std. all are continuous data.\n",
    "def norm_func(i):\n",
    "    x = (i-i.mean())/(i.std())\n",
    "    return (x)"
   ]
  },
  {
   "cell_type": "code",
   "execution_count": 92,
   "id": "126118aa",
   "metadata": {},
   "outputs": [],
   "source": [
    "# Normalized data frame (considering the numerical part of data)\n",
    "df = norm_func(concrete.iloc[:,:8])"
   ]
  },
  {
   "cell_type": "code",
   "execution_count": 93,
   "id": "de5fbb12",
   "metadata": {},
   "outputs": [
    {
     "data": {
      "text/html": [
       "<div>\n",
       "<style scoped>\n",
       "    .dataframe tbody tr th:only-of-type {\n",
       "        vertical-align: middle;\n",
       "    }\n",
       "\n",
       "    .dataframe tbody tr th {\n",
       "        vertical-align: top;\n",
       "    }\n",
       "\n",
       "    .dataframe thead th {\n",
       "        text-align: right;\n",
       "    }\n",
       "</style>\n",
       "<table border=\"1\" class=\"dataframe\">\n",
       "  <thead>\n",
       "    <tr style=\"text-align: right;\">\n",
       "      <th></th>\n",
       "      <th>strength</th>\n",
       "      <th>cement</th>\n",
       "      <th>slag</th>\n",
       "      <th>ash</th>\n",
       "      <th>water</th>\n",
       "      <th>superplastic</th>\n",
       "      <th>coarseagg</th>\n",
       "      <th>fineagg</th>\n",
       "      <th>age</th>\n",
       "    </tr>\n",
       "  </thead>\n",
       "  <tbody>\n",
       "    <tr>\n",
       "      <th>count</th>\n",
       "      <td>1030.000000</td>\n",
       "      <td>1.030000e+03</td>\n",
       "      <td>1.030000e+03</td>\n",
       "      <td>1.030000e+03</td>\n",
       "      <td>1.030000e+03</td>\n",
       "      <td>1.030000e+03</td>\n",
       "      <td>1.030000e+03</td>\n",
       "      <td>1.030000e+03</td>\n",
       "      <td>1.030000e+03</td>\n",
       "    </tr>\n",
       "    <tr>\n",
       "      <th>mean</th>\n",
       "      <td>35.817961</td>\n",
       "      <td>1.192574e-15</td>\n",
       "      <td>-1.724618e-18</td>\n",
       "      <td>6.036164e-18</td>\n",
       "      <td>3.880391e-15</td>\n",
       "      <td>3.488040e-16</td>\n",
       "      <td>-7.663773e-16</td>\n",
       "      <td>-4.682339e-16</td>\n",
       "      <td>9.657862e-17</td>\n",
       "    </tr>\n",
       "    <tr>\n",
       "      <th>std</th>\n",
       "      <td>16.705742</td>\n",
       "      <td>1.000000e+00</td>\n",
       "      <td>1.000000e+00</td>\n",
       "      <td>1.000000e+00</td>\n",
       "      <td>1.000000e+00</td>\n",
       "      <td>1.000000e+00</td>\n",
       "      <td>1.000000e+00</td>\n",
       "      <td>1.000000e+00</td>\n",
       "      <td>1.000000e+00</td>\n",
       "    </tr>\n",
       "    <tr>\n",
       "      <th>min</th>\n",
       "      <td>2.330000</td>\n",
       "      <td>-1.714421e+00</td>\n",
       "      <td>-8.564718e-01</td>\n",
       "      <td>-8.467326e-01</td>\n",
       "      <td>-2.798851e+00</td>\n",
       "      <td>-1.038638e+00</td>\n",
       "      <td>-2.211064e+00</td>\n",
       "      <td>-2.239829e+00</td>\n",
       "      <td>-7.070160e-01</td>\n",
       "    </tr>\n",
       "    <tr>\n",
       "      <th>25%</th>\n",
       "      <td>23.710000</td>\n",
       "      <td>-8.496407e-01</td>\n",
       "      <td>-8.564718e-01</td>\n",
       "      <td>-8.467326e-01</td>\n",
       "      <td>-7.805147e-01</td>\n",
       "      <td>-1.038638e+00</td>\n",
       "      <td>-5.262618e-01</td>\n",
       "      <td>-5.317114e-01</td>\n",
       "      <td>-6.120340e-01</td>\n",
       "    </tr>\n",
       "    <tr>\n",
       "      <th>50%</th>\n",
       "      <td>34.445000</td>\n",
       "      <td>-7.911350e-02</td>\n",
       "      <td>-6.014861e-01</td>\n",
       "      <td>-8.467326e-01</td>\n",
       "      <td>1.607513e-01</td>\n",
       "      <td>3.269920e-02</td>\n",
       "      <td>-6.326279e-02</td>\n",
       "      <td>7.383152e-02</td>\n",
       "      <td>-2.795973e-01</td>\n",
       "    </tr>\n",
       "    <tr>\n",
       "      <th>75%</th>\n",
       "      <td>46.135000</td>\n",
       "      <td>6.586406e-01</td>\n",
       "      <td>8.003558e-01</td>\n",
       "      <td>1.001791e+00</td>\n",
       "      <td>4.885554e-01</td>\n",
       "      <td>6.688058e-01</td>\n",
       "      <td>7.264077e-01</td>\n",
       "      <td>6.288606e-01</td>\n",
       "      <td>1.636517e-01</td>\n",
       "    </tr>\n",
       "    <tr>\n",
       "      <th>max</th>\n",
       "      <td>82.600000</td>\n",
       "      <td>2.476712e+00</td>\n",
       "      <td>3.309068e+00</td>\n",
       "      <td>2.279976e+00</td>\n",
       "      <td>3.064159e+00</td>\n",
       "      <td>4.351528e+00</td>\n",
       "      <td>2.213149e+00</td>\n",
       "      <td>2.731735e+00</td>\n",
       "      <td>5.055221e+00</td>\n",
       "    </tr>\n",
       "  </tbody>\n",
       "</table>\n",
       "</div>"
      ],
      "text/plain": [
       "          strength        cement          slag           ash         water  \\\n",
       "count  1030.000000  1.030000e+03  1.030000e+03  1.030000e+03  1.030000e+03   \n",
       "mean     35.817961  1.192574e-15 -1.724618e-18  6.036164e-18  3.880391e-15   \n",
       "std      16.705742  1.000000e+00  1.000000e+00  1.000000e+00  1.000000e+00   \n",
       "min       2.330000 -1.714421e+00 -8.564718e-01 -8.467326e-01 -2.798851e+00   \n",
       "25%      23.710000 -8.496407e-01 -8.564718e-01 -8.467326e-01 -7.805147e-01   \n",
       "50%      34.445000 -7.911350e-02 -6.014861e-01 -8.467326e-01  1.607513e-01   \n",
       "75%      46.135000  6.586406e-01  8.003558e-01  1.001791e+00  4.885554e-01   \n",
       "max      82.600000  2.476712e+00  3.309068e+00  2.279976e+00  3.064159e+00   \n",
       "\n",
       "       superplastic     coarseagg       fineagg           age  \n",
       "count  1.030000e+03  1.030000e+03  1.030000e+03  1.030000e+03  \n",
       "mean   3.488040e-16 -7.663773e-16 -4.682339e-16  9.657862e-17  \n",
       "std    1.000000e+00  1.000000e+00  1.000000e+00  1.000000e+00  \n",
       "min   -1.038638e+00 -2.211064e+00 -2.239829e+00 -7.070160e-01  \n",
       "25%   -1.038638e+00 -5.262618e-01 -5.317114e-01 -6.120340e-01  \n",
       "50%    3.269920e-02 -6.326279e-02  7.383152e-02 -2.795973e-01  \n",
       "75%    6.688058e-01  7.264077e-01  6.288606e-01  1.636517e-01  \n",
       "max    4.351528e+00  2.213149e+00  2.731735e+00  5.055221e+00  "
      ]
     },
     "execution_count": 93,
     "metadata": {},
     "output_type": "execute_result"
    }
   ],
   "source": [
    "#final dataframe\n",
    "model_df = pd.concat([concrete.iloc[:,[8]],df], axis =1)\n",
    "model_df.describe()"
   ]
  },
  {
   "cell_type": "code",
   "execution_count": 94,
   "id": "955f9eb1",
   "metadata": {},
   "outputs": [],
   "source": [
    "np.random.seed(10)"
   ]
  },
  {
   "cell_type": "code",
   "execution_count": 95,
   "id": "812ed7da",
   "metadata": {},
   "outputs": [],
   "source": [
    "from sklearn.model_selection import train_test_split\n",
    "model_df_train, model_df_test = train_test_split(model_df, test_size = 0.2,random_state = 457) # 20% test data\n",
    "\n",
    "x_train = model_df_train.iloc[:,1:].values.astype(\"float32\")\n",
    "y_train = model_df_train.iloc[:,0].values.astype(\"float32\")\n",
    "x_test = model_df_test.iloc[:,1:].values.astype(\"float32\")\n",
    "y_test = model_df_test.iloc[:,0].values.astype(\"float32\")"
   ]
  },
  {
   "cell_type": "code",
   "execution_count": 96,
   "id": "04219aca",
   "metadata": {},
   "outputs": [
    {
     "name": "stderr",
     "output_type": "stream",
     "text": [
      "C:\\Users\\jeeva\\anaconda3\\lib\\site-packages\\sklearn\\neural_network\\_multilayer_perceptron.py:692: ConvergenceWarning: Stochastic Optimizer: Maximum iterations (10) reached and the optimization hasn't converged yet.\n",
      "  warnings.warn(\n"
     ]
    },
    {
     "data": {
      "text/plain": [
       "MLPRegressor(activation='tanh', hidden_layer_sizes=(10, 10), max_iter=10)"
      ]
     },
     "execution_count": 96,
     "metadata": {},
     "output_type": "execute_result"
    }
   ],
   "source": [
    "#building model\n",
    "from sklearn.neural_network import MLPRegressor\n",
    "model = MLPRegressor(hidden_layer_sizes=(10,10,),activation='tanh', max_iter=10)\n",
    "model.fit(x_train,y_train)"
   ]
  },
  {
   "cell_type": "code",
   "execution_count": 97,
   "id": "d011f55c",
   "metadata": {},
   "outputs": [
    {
     "name": "stdout",
     "output_type": "stream",
     "text": [
      "error on test data 34.646137\n"
     ]
    }
   ],
   "source": [
    "# Evaluating the model on test data using mean absolute square error\n",
    "from sklearn import metrics\n",
    "mae1 = metrics.mean_absolute_error(y_test, model.predict(x_test))\n",
    "print (\"error on test data\", mae1) "
   ]
  },
  {
   "cell_type": "code",
   "execution_count": 98,
   "id": "d65b96dc",
   "metadata": {},
   "outputs": [
    {
     "name": "stdout",
     "output_type": "stream",
     "text": [
      "error on train data:  35.654324\n"
     ]
    }
   ],
   "source": [
    "# Evaluating the model on train data \n",
    "mae2 = metrics.mean_absolute_error(y_train, model.predict(x_train))\n",
    "print(\"error on train data: \",mae2)"
   ]
  },
  {
   "cell_type": "markdown",
   "id": "e9170cf0",
   "metadata": {},
   "source": [
    "#### Problem 4:\n",
    "RPL Banking and Financing company wants to study the behavior patterns of their customers so that they can efficiently provide their services and solve the problem of churn. They have historical data of their customers. Build an Artificial Neural Network with Exited as the target variable.\n",
    "    "
   ]
  },
  {
   "cell_type": "code",
   "execution_count": 54,
   "id": "71e25c07",
   "metadata": {},
   "outputs": [
    {
     "data": {
      "text/html": [
       "<div>\n",
       "<style scoped>\n",
       "    .dataframe tbody tr th:only-of-type {\n",
       "        vertical-align: middle;\n",
       "    }\n",
       "\n",
       "    .dataframe tbody tr th {\n",
       "        vertical-align: top;\n",
       "    }\n",
       "\n",
       "    .dataframe thead th {\n",
       "        text-align: right;\n",
       "    }\n",
       "</style>\n",
       "<table border=\"1\" class=\"dataframe\">\n",
       "  <thead>\n",
       "    <tr style=\"text-align: right;\">\n",
       "      <th></th>\n",
       "      <th>RowNumber</th>\n",
       "      <th>CustomerId</th>\n",
       "      <th>Surname</th>\n",
       "      <th>CreditScore</th>\n",
       "      <th>Geography</th>\n",
       "      <th>Gender</th>\n",
       "      <th>Age</th>\n",
       "      <th>Tenure</th>\n",
       "      <th>Balance</th>\n",
       "      <th>NumOfProducts</th>\n",
       "      <th>HasCrCard</th>\n",
       "      <th>IsActiveMember</th>\n",
       "      <th>EstimatedSalary</th>\n",
       "      <th>Exited</th>\n",
       "    </tr>\n",
       "  </thead>\n",
       "  <tbody>\n",
       "    <tr>\n",
       "      <th>0</th>\n",
       "      <td>1</td>\n",
       "      <td>15634602</td>\n",
       "      <td>Hargrave</td>\n",
       "      <td>619</td>\n",
       "      <td>France</td>\n",
       "      <td>Female</td>\n",
       "      <td>42</td>\n",
       "      <td>2</td>\n",
       "      <td>0.00</td>\n",
       "      <td>1</td>\n",
       "      <td>1</td>\n",
       "      <td>1</td>\n",
       "      <td>101348.88</td>\n",
       "      <td>1</td>\n",
       "    </tr>\n",
       "    <tr>\n",
       "      <th>1</th>\n",
       "      <td>2</td>\n",
       "      <td>15647311</td>\n",
       "      <td>Hill</td>\n",
       "      <td>608</td>\n",
       "      <td>Spain</td>\n",
       "      <td>Female</td>\n",
       "      <td>41</td>\n",
       "      <td>1</td>\n",
       "      <td>83807.86</td>\n",
       "      <td>1</td>\n",
       "      <td>0</td>\n",
       "      <td>1</td>\n",
       "      <td>112542.58</td>\n",
       "      <td>0</td>\n",
       "    </tr>\n",
       "    <tr>\n",
       "      <th>2</th>\n",
       "      <td>3</td>\n",
       "      <td>15619304</td>\n",
       "      <td>Onio</td>\n",
       "      <td>502</td>\n",
       "      <td>France</td>\n",
       "      <td>Female</td>\n",
       "      <td>42</td>\n",
       "      <td>8</td>\n",
       "      <td>159660.80</td>\n",
       "      <td>3</td>\n",
       "      <td>1</td>\n",
       "      <td>0</td>\n",
       "      <td>113931.57</td>\n",
       "      <td>1</td>\n",
       "    </tr>\n",
       "    <tr>\n",
       "      <th>3</th>\n",
       "      <td>4</td>\n",
       "      <td>15701354</td>\n",
       "      <td>Boni</td>\n",
       "      <td>699</td>\n",
       "      <td>France</td>\n",
       "      <td>Female</td>\n",
       "      <td>39</td>\n",
       "      <td>1</td>\n",
       "      <td>0.00</td>\n",
       "      <td>2</td>\n",
       "      <td>0</td>\n",
       "      <td>0</td>\n",
       "      <td>93826.63</td>\n",
       "      <td>0</td>\n",
       "    </tr>\n",
       "    <tr>\n",
       "      <th>4</th>\n",
       "      <td>5</td>\n",
       "      <td>15737888</td>\n",
       "      <td>Mitchell</td>\n",
       "      <td>850</td>\n",
       "      <td>Spain</td>\n",
       "      <td>Female</td>\n",
       "      <td>43</td>\n",
       "      <td>2</td>\n",
       "      <td>125510.82</td>\n",
       "      <td>1</td>\n",
       "      <td>1</td>\n",
       "      <td>1</td>\n",
       "      <td>79084.10</td>\n",
       "      <td>0</td>\n",
       "    </tr>\n",
       "    <tr>\n",
       "      <th>...</th>\n",
       "      <td>...</td>\n",
       "      <td>...</td>\n",
       "      <td>...</td>\n",
       "      <td>...</td>\n",
       "      <td>...</td>\n",
       "      <td>...</td>\n",
       "      <td>...</td>\n",
       "      <td>...</td>\n",
       "      <td>...</td>\n",
       "      <td>...</td>\n",
       "      <td>...</td>\n",
       "      <td>...</td>\n",
       "      <td>...</td>\n",
       "      <td>...</td>\n",
       "    </tr>\n",
       "    <tr>\n",
       "      <th>9995</th>\n",
       "      <td>9996</td>\n",
       "      <td>15606229</td>\n",
       "      <td>Obijiaku</td>\n",
       "      <td>771</td>\n",
       "      <td>France</td>\n",
       "      <td>Male</td>\n",
       "      <td>39</td>\n",
       "      <td>5</td>\n",
       "      <td>0.00</td>\n",
       "      <td>2</td>\n",
       "      <td>1</td>\n",
       "      <td>0</td>\n",
       "      <td>96270.64</td>\n",
       "      <td>0</td>\n",
       "    </tr>\n",
       "    <tr>\n",
       "      <th>9996</th>\n",
       "      <td>9997</td>\n",
       "      <td>15569892</td>\n",
       "      <td>Johnstone</td>\n",
       "      <td>516</td>\n",
       "      <td>France</td>\n",
       "      <td>Male</td>\n",
       "      <td>35</td>\n",
       "      <td>10</td>\n",
       "      <td>57369.61</td>\n",
       "      <td>1</td>\n",
       "      <td>1</td>\n",
       "      <td>1</td>\n",
       "      <td>101699.77</td>\n",
       "      <td>0</td>\n",
       "    </tr>\n",
       "    <tr>\n",
       "      <th>9997</th>\n",
       "      <td>9998</td>\n",
       "      <td>15584532</td>\n",
       "      <td>Liu</td>\n",
       "      <td>709</td>\n",
       "      <td>France</td>\n",
       "      <td>Female</td>\n",
       "      <td>36</td>\n",
       "      <td>7</td>\n",
       "      <td>0.00</td>\n",
       "      <td>1</td>\n",
       "      <td>0</td>\n",
       "      <td>1</td>\n",
       "      <td>42085.58</td>\n",
       "      <td>1</td>\n",
       "    </tr>\n",
       "    <tr>\n",
       "      <th>9998</th>\n",
       "      <td>9999</td>\n",
       "      <td>15682355</td>\n",
       "      <td>Sabbatini</td>\n",
       "      <td>772</td>\n",
       "      <td>Germany</td>\n",
       "      <td>Male</td>\n",
       "      <td>42</td>\n",
       "      <td>3</td>\n",
       "      <td>75075.31</td>\n",
       "      <td>2</td>\n",
       "      <td>1</td>\n",
       "      <td>0</td>\n",
       "      <td>92888.52</td>\n",
       "      <td>1</td>\n",
       "    </tr>\n",
       "    <tr>\n",
       "      <th>9999</th>\n",
       "      <td>10000</td>\n",
       "      <td>15628319</td>\n",
       "      <td>Walker</td>\n",
       "      <td>792</td>\n",
       "      <td>France</td>\n",
       "      <td>Female</td>\n",
       "      <td>28</td>\n",
       "      <td>4</td>\n",
       "      <td>130142.79</td>\n",
       "      <td>1</td>\n",
       "      <td>1</td>\n",
       "      <td>0</td>\n",
       "      <td>38190.78</td>\n",
       "      <td>0</td>\n",
       "    </tr>\n",
       "  </tbody>\n",
       "</table>\n",
       "<p>10000 rows × 14 columns</p>\n",
       "</div>"
      ],
      "text/plain": [
       "      RowNumber  CustomerId    Surname  CreditScore Geography  Gender  Age  \\\n",
       "0             1    15634602   Hargrave          619    France  Female   42   \n",
       "1             2    15647311       Hill          608     Spain  Female   41   \n",
       "2             3    15619304       Onio          502    France  Female   42   \n",
       "3             4    15701354       Boni          699    France  Female   39   \n",
       "4             5    15737888   Mitchell          850     Spain  Female   43   \n",
       "...         ...         ...        ...          ...       ...     ...  ...   \n",
       "9995       9996    15606229   Obijiaku          771    France    Male   39   \n",
       "9996       9997    15569892  Johnstone          516    France    Male   35   \n",
       "9997       9998    15584532        Liu          709    France  Female   36   \n",
       "9998       9999    15682355  Sabbatini          772   Germany    Male   42   \n",
       "9999      10000    15628319     Walker          792    France  Female   28   \n",
       "\n",
       "      Tenure    Balance  NumOfProducts  HasCrCard  IsActiveMember  \\\n",
       "0          2       0.00              1          1               1   \n",
       "1          1   83807.86              1          0               1   \n",
       "2          8  159660.80              3          1               0   \n",
       "3          1       0.00              2          0               0   \n",
       "4          2  125510.82              1          1               1   \n",
       "...      ...        ...            ...        ...             ...   \n",
       "9995       5       0.00              2          1               0   \n",
       "9996      10   57369.61              1          1               1   \n",
       "9997       7       0.00              1          0               1   \n",
       "9998       3   75075.31              2          1               0   \n",
       "9999       4  130142.79              1          1               0   \n",
       "\n",
       "      EstimatedSalary  Exited  \n",
       "0           101348.88       1  \n",
       "1           112542.58       0  \n",
       "2           113931.57       1  \n",
       "3            93826.63       0  \n",
       "4            79084.10       0  \n",
       "...               ...     ...  \n",
       "9995         96270.64       0  \n",
       "9996        101699.77       0  \n",
       "9997         42085.58       1  \n",
       "9998         92888.52       1  \n",
       "9999         38190.78       0  \n",
       "\n",
       "[10000 rows x 14 columns]"
      ]
     },
     "execution_count": 54,
     "metadata": {},
     "output_type": "execute_result"
    }
   ],
   "source": [
    "#loading the dataset\n",
    "rpl = pd.read_csv(r\"D:\\360 Data Science 360DigiTMG\\Day41-NeuralNetwork\\Datasets_ANN Assignment\\RPL.csv\")\n",
    "rpl    "
   ]
  },
  {
   "cell_type": "code",
   "execution_count": 55,
   "id": "97b1c722",
   "metadata": {},
   "outputs": [
    {
     "name": "stdout",
     "output_type": "stream",
     "text": [
      "<class 'pandas.core.frame.DataFrame'>\n",
      "RangeIndex: 10000 entries, 0 to 9999\n",
      "Data columns (total 14 columns):\n",
      " #   Column           Non-Null Count  Dtype  \n",
      "---  ------           --------------  -----  \n",
      " 0   RowNumber        10000 non-null  int64  \n",
      " 1   CustomerId       10000 non-null  int64  \n",
      " 2   Surname          10000 non-null  object \n",
      " 3   CreditScore      10000 non-null  int64  \n",
      " 4   Geography        10000 non-null  object \n",
      " 5   Gender           10000 non-null  object \n",
      " 6   Age              10000 non-null  int64  \n",
      " 7   Tenure           10000 non-null  int64  \n",
      " 8   Balance          10000 non-null  float64\n",
      " 9   NumOfProducts    10000 non-null  int64  \n",
      " 10  HasCrCard        10000 non-null  int64  \n",
      " 11  IsActiveMember   10000 non-null  int64  \n",
      " 12  EstimatedSalary  10000 non-null  float64\n",
      " 13  Exited           10000 non-null  int64  \n",
      "dtypes: float64(2), int64(9), object(3)\n",
      "memory usage: 1.1+ MB\n"
     ]
    }
   ],
   "source": [
    "#details of rpl \n",
    "rpl.info()"
   ]
  },
  {
   "cell_type": "code",
   "execution_count": 56,
   "id": "5fbfdab8",
   "metadata": {},
   "outputs": [
    {
     "data": {
      "text/html": [
       "<div>\n",
       "<style scoped>\n",
       "    .dataframe tbody tr th:only-of-type {\n",
       "        vertical-align: middle;\n",
       "    }\n",
       "\n",
       "    .dataframe tbody tr th {\n",
       "        vertical-align: top;\n",
       "    }\n",
       "\n",
       "    .dataframe thead th {\n",
       "        text-align: right;\n",
       "    }\n",
       "</style>\n",
       "<table border=\"1\" class=\"dataframe\">\n",
       "  <thead>\n",
       "    <tr style=\"text-align: right;\">\n",
       "      <th></th>\n",
       "      <th>RowNumber</th>\n",
       "      <th>CustomerId</th>\n",
       "      <th>CreditScore</th>\n",
       "      <th>Age</th>\n",
       "      <th>Tenure</th>\n",
       "      <th>Balance</th>\n",
       "      <th>NumOfProducts</th>\n",
       "      <th>HasCrCard</th>\n",
       "      <th>IsActiveMember</th>\n",
       "      <th>EstimatedSalary</th>\n",
       "      <th>Exited</th>\n",
       "    </tr>\n",
       "  </thead>\n",
       "  <tbody>\n",
       "    <tr>\n",
       "      <th>count</th>\n",
       "      <td>10000.00000</td>\n",
       "      <td>1.000000e+04</td>\n",
       "      <td>10000.000000</td>\n",
       "      <td>10000.000000</td>\n",
       "      <td>10000.000000</td>\n",
       "      <td>10000.000000</td>\n",
       "      <td>10000.000000</td>\n",
       "      <td>10000.00000</td>\n",
       "      <td>10000.000000</td>\n",
       "      <td>10000.000000</td>\n",
       "      <td>10000.000000</td>\n",
       "    </tr>\n",
       "    <tr>\n",
       "      <th>mean</th>\n",
       "      <td>5000.50000</td>\n",
       "      <td>1.569094e+07</td>\n",
       "      <td>650.528800</td>\n",
       "      <td>38.921800</td>\n",
       "      <td>5.012800</td>\n",
       "      <td>76485.889288</td>\n",
       "      <td>1.530200</td>\n",
       "      <td>0.70550</td>\n",
       "      <td>0.515100</td>\n",
       "      <td>100090.239881</td>\n",
       "      <td>0.203700</td>\n",
       "    </tr>\n",
       "    <tr>\n",
       "      <th>std</th>\n",
       "      <td>2886.89568</td>\n",
       "      <td>7.193619e+04</td>\n",
       "      <td>96.653299</td>\n",
       "      <td>10.487806</td>\n",
       "      <td>2.892174</td>\n",
       "      <td>62397.405202</td>\n",
       "      <td>0.581654</td>\n",
       "      <td>0.45584</td>\n",
       "      <td>0.499797</td>\n",
       "      <td>57510.492818</td>\n",
       "      <td>0.402769</td>\n",
       "    </tr>\n",
       "    <tr>\n",
       "      <th>min</th>\n",
       "      <td>1.00000</td>\n",
       "      <td>1.556570e+07</td>\n",
       "      <td>350.000000</td>\n",
       "      <td>18.000000</td>\n",
       "      <td>0.000000</td>\n",
       "      <td>0.000000</td>\n",
       "      <td>1.000000</td>\n",
       "      <td>0.00000</td>\n",
       "      <td>0.000000</td>\n",
       "      <td>11.580000</td>\n",
       "      <td>0.000000</td>\n",
       "    </tr>\n",
       "    <tr>\n",
       "      <th>25%</th>\n",
       "      <td>2500.75000</td>\n",
       "      <td>1.562853e+07</td>\n",
       "      <td>584.000000</td>\n",
       "      <td>32.000000</td>\n",
       "      <td>3.000000</td>\n",
       "      <td>0.000000</td>\n",
       "      <td>1.000000</td>\n",
       "      <td>0.00000</td>\n",
       "      <td>0.000000</td>\n",
       "      <td>51002.110000</td>\n",
       "      <td>0.000000</td>\n",
       "    </tr>\n",
       "    <tr>\n",
       "      <th>50%</th>\n",
       "      <td>5000.50000</td>\n",
       "      <td>1.569074e+07</td>\n",
       "      <td>652.000000</td>\n",
       "      <td>37.000000</td>\n",
       "      <td>5.000000</td>\n",
       "      <td>97198.540000</td>\n",
       "      <td>1.000000</td>\n",
       "      <td>1.00000</td>\n",
       "      <td>1.000000</td>\n",
       "      <td>100193.915000</td>\n",
       "      <td>0.000000</td>\n",
       "    </tr>\n",
       "    <tr>\n",
       "      <th>75%</th>\n",
       "      <td>7500.25000</td>\n",
       "      <td>1.575323e+07</td>\n",
       "      <td>718.000000</td>\n",
       "      <td>44.000000</td>\n",
       "      <td>7.000000</td>\n",
       "      <td>127644.240000</td>\n",
       "      <td>2.000000</td>\n",
       "      <td>1.00000</td>\n",
       "      <td>1.000000</td>\n",
       "      <td>149388.247500</td>\n",
       "      <td>0.000000</td>\n",
       "    </tr>\n",
       "    <tr>\n",
       "      <th>max</th>\n",
       "      <td>10000.00000</td>\n",
       "      <td>1.581569e+07</td>\n",
       "      <td>850.000000</td>\n",
       "      <td>92.000000</td>\n",
       "      <td>10.000000</td>\n",
       "      <td>250898.090000</td>\n",
       "      <td>4.000000</td>\n",
       "      <td>1.00000</td>\n",
       "      <td>1.000000</td>\n",
       "      <td>199992.480000</td>\n",
       "      <td>1.000000</td>\n",
       "    </tr>\n",
       "  </tbody>\n",
       "</table>\n",
       "</div>"
      ],
      "text/plain": [
       "         RowNumber    CustomerId   CreditScore           Age        Tenure  \\\n",
       "count  10000.00000  1.000000e+04  10000.000000  10000.000000  10000.000000   \n",
       "mean    5000.50000  1.569094e+07    650.528800     38.921800      5.012800   \n",
       "std     2886.89568  7.193619e+04     96.653299     10.487806      2.892174   \n",
       "min        1.00000  1.556570e+07    350.000000     18.000000      0.000000   \n",
       "25%     2500.75000  1.562853e+07    584.000000     32.000000      3.000000   \n",
       "50%     5000.50000  1.569074e+07    652.000000     37.000000      5.000000   \n",
       "75%     7500.25000  1.575323e+07    718.000000     44.000000      7.000000   \n",
       "max    10000.00000  1.581569e+07    850.000000     92.000000     10.000000   \n",
       "\n",
       "             Balance  NumOfProducts    HasCrCard  IsActiveMember  \\\n",
       "count   10000.000000   10000.000000  10000.00000    10000.000000   \n",
       "mean    76485.889288       1.530200      0.70550        0.515100   \n",
       "std     62397.405202       0.581654      0.45584        0.499797   \n",
       "min         0.000000       1.000000      0.00000        0.000000   \n",
       "25%         0.000000       1.000000      0.00000        0.000000   \n",
       "50%     97198.540000       1.000000      1.00000        1.000000   \n",
       "75%    127644.240000       2.000000      1.00000        1.000000   \n",
       "max    250898.090000       4.000000      1.00000        1.000000   \n",
       "\n",
       "       EstimatedSalary        Exited  \n",
       "count     10000.000000  10000.000000  \n",
       "mean     100090.239881      0.203700  \n",
       "std       57510.492818      0.402769  \n",
       "min          11.580000      0.000000  \n",
       "25%       51002.110000      0.000000  \n",
       "50%      100193.915000      0.000000  \n",
       "75%      149388.247500      0.000000  \n",
       "max      199992.480000      1.000000  "
      ]
     },
     "execution_count": 56,
     "metadata": {},
     "output_type": "execute_result"
    }
   ],
   "source": [
    "rpl.describe()"
   ]
  },
  {
   "cell_type": "code",
   "execution_count": 57,
   "id": "59c68838",
   "metadata": {},
   "outputs": [
    {
     "data": {
      "text/plain": [
       "RowNumber          0\n",
       "CustomerId         0\n",
       "Surname            0\n",
       "CreditScore        0\n",
       "Geography          0\n",
       "Gender             0\n",
       "Age                0\n",
       "Tenure             0\n",
       "Balance            0\n",
       "NumOfProducts      0\n",
       "HasCrCard          0\n",
       "IsActiveMember     0\n",
       "EstimatedSalary    0\n",
       "Exited             0\n",
       "dtype: int64"
      ]
     },
     "execution_count": 57,
     "metadata": {},
     "output_type": "execute_result"
    }
   ],
   "source": [
    "#data types        \n",
    "rpl.dtypes\n",
    "\n",
    "#checking for na and null value\n",
    "rpl.isna().sum()"
   ]
  },
  {
   "cell_type": "code",
   "execution_count": 58,
   "id": "100893d6",
   "metadata": {},
   "outputs": [
    {
     "data": {
      "text/plain": [
       "RowNumber          0\n",
       "CustomerId         0\n",
       "Surname            0\n",
       "CreditScore        0\n",
       "Geography          0\n",
       "Gender             0\n",
       "Age                0\n",
       "Tenure             0\n",
       "Balance            0\n",
       "NumOfProducts      0\n",
       "HasCrCard          0\n",
       "IsActiveMember     0\n",
       "EstimatedSalary    0\n",
       "Exited             0\n",
       "dtype: int64"
      ]
     },
     "execution_count": 58,
     "metadata": {},
     "output_type": "execute_result"
    }
   ],
   "source": [
    "rpl.isnull().sum()"
   ]
  },
  {
   "cell_type": "code",
   "execution_count": 59,
   "id": "2c8f4365",
   "metadata": {},
   "outputs": [
    {
     "data": {
      "text/plain": [
       "RowNumber          10000\n",
       "CustomerId         10000\n",
       "Surname             2932\n",
       "CreditScore          460\n",
       "Geography              3\n",
       "Gender                 2\n",
       "Age                   70\n",
       "Tenure                11\n",
       "Balance             6382\n",
       "NumOfProducts          4\n",
       "HasCrCard              2\n",
       "IsActiveMember         2\n",
       "EstimatedSalary     9999\n",
       "Exited                 2\n",
       "dtype: int64"
      ]
     },
     "execution_count": 59,
     "metadata": {},
     "output_type": "execute_result"
    }
   ],
   "source": [
    "#checking unique value for each columns\n",
    "rpl.nunique()"
   ]
  },
  {
   "cell_type": "code",
   "execution_count": 60,
   "id": "d5b9483b",
   "metadata": {},
   "outputs": [
    {
     "name": "stderr",
     "output_type": "stream",
     "text": [
      "C:\\Users\\jeeva\\AppData\\Local\\Temp\\ipykernel_11312\\2691769370.py:3: FutureWarning: Dropping of nuisance columns in DataFrame reductions (with 'numeric_only=None') is deprecated; in a future version this will raise TypeError.  Select only valid columns before calling the reduction.\n",
      "  \"mean\": rpl.mean(),\n",
      "C:\\Users\\jeeva\\AppData\\Local\\Temp\\ipykernel_11312\\2691769370.py:4: FutureWarning: Dropping of nuisance columns in DataFrame reductions (with 'numeric_only=None') is deprecated; in a future version this will raise TypeError.  Select only valid columns before calling the reduction.\n",
      "  \"median\":rpl.median(),\n",
      "C:\\Users\\jeeva\\AppData\\Local\\Temp\\ipykernel_11312\\2691769370.py:6: FutureWarning: Dropping of nuisance columns in DataFrame reductions (with 'numeric_only=None') is deprecated; in a future version this will raise TypeError.  Select only valid columns before calling the reduction.\n",
      "  \"standard deviation\": rpl.std(),\n",
      "C:\\Users\\jeeva\\AppData\\Local\\Temp\\ipykernel_11312\\2691769370.py:7: FutureWarning: Dropping of nuisance columns in DataFrame reductions (with 'numeric_only=None') is deprecated; in a future version this will raise TypeError.  Select only valid columns before calling the reduction.\n",
      "  \"variance\":rpl.var(),\n",
      "C:\\Users\\jeeva\\AppData\\Local\\Temp\\ipykernel_11312\\2691769370.py:8: FutureWarning: Dropping of nuisance columns in DataFrame reductions (with 'numeric_only=None') is deprecated; in a future version this will raise TypeError.  Select only valid columns before calling the reduction.\n",
      "  \"skewness\":rpl.skew(),\n",
      "C:\\Users\\jeeva\\AppData\\Local\\Temp\\ipykernel_11312\\2691769370.py:9: FutureWarning: Dropping of nuisance columns in DataFrame reductions (with 'numeric_only=None') is deprecated; in a future version this will raise TypeError.  Select only valid columns before calling the reduction.\n",
      "  \"kurtosis\":rpl.kurt()}\n"
     ]
    },
    {
     "data": {
      "text/plain": [
       "{'column ': Index(['RowNumber', 'CustomerId', 'Surname', 'CreditScore', 'Geography',\n",
       "        'Gender', 'Age', 'Tenure', 'Balance', 'NumOfProducts', 'HasCrCard',\n",
       "        'IsActiveMember', 'EstimatedSalary', 'Exited'],\n",
       "       dtype='object'),\n",
       " 'mean': RowNumber          5.000500e+03\n",
       " CustomerId         1.569094e+07\n",
       " CreditScore        6.505288e+02\n",
       " Age                3.892180e+01\n",
       " Tenure             5.012800e+00\n",
       " Balance            7.648589e+04\n",
       " NumOfProducts      1.530200e+00\n",
       " HasCrCard          7.055000e-01\n",
       " IsActiveMember     5.151000e-01\n",
       " EstimatedSalary    1.000902e+05\n",
       " Exited             2.037000e-01\n",
       " dtype: float64,\n",
       " 'median': RowNumber          5.000500e+03\n",
       " CustomerId         1.569074e+07\n",
       " CreditScore        6.520000e+02\n",
       " Age                3.700000e+01\n",
       " Tenure             5.000000e+00\n",
       " Balance            9.719854e+04\n",
       " NumOfProducts      1.000000e+00\n",
       " HasCrCard          1.000000e+00\n",
       " IsActiveMember     1.000000e+00\n",
       " EstimatedSalary    1.001939e+05\n",
       " Exited             0.000000e+00\n",
       " dtype: float64,\n",
       " 'mode':       RowNumber  CustomerId Surname  CreditScore Geography Gender   Age  \\\n",
       " 0             1    15565701   Smith        850.0    France   Male  37.0   \n",
       " 1             2    15565706     NaN          NaN       NaN    NaN   NaN   \n",
       " 2             3    15565714     NaN          NaN       NaN    NaN   NaN   \n",
       " 3             4    15565779     NaN          NaN       NaN    NaN   NaN   \n",
       " 4             5    15565796     NaN          NaN       NaN    NaN   NaN   \n",
       " ...         ...         ...     ...          ...       ...    ...   ...   \n",
       " 9995       9996    15815628     NaN          NaN       NaN    NaN   NaN   \n",
       " 9996       9997    15815645     NaN          NaN       NaN    NaN   NaN   \n",
       " 9997       9998    15815656     NaN          NaN       NaN    NaN   NaN   \n",
       " 9998       9999    15815660     NaN          NaN       NaN    NaN   NaN   \n",
       " 9999      10000    15815690     NaN          NaN       NaN    NaN   NaN   \n",
       " \n",
       "       Tenure  Balance  NumOfProducts  HasCrCard  IsActiveMember  \\\n",
       " 0        2.0      0.0            1.0        1.0             1.0   \n",
       " 1        NaN      NaN            NaN        NaN             NaN   \n",
       " 2        NaN      NaN            NaN        NaN             NaN   \n",
       " 3        NaN      NaN            NaN        NaN             NaN   \n",
       " 4        NaN      NaN            NaN        NaN             NaN   \n",
       " ...      ...      ...            ...        ...             ...   \n",
       " 9995     NaN      NaN            NaN        NaN             NaN   \n",
       " 9996     NaN      NaN            NaN        NaN             NaN   \n",
       " 9997     NaN      NaN            NaN        NaN             NaN   \n",
       " 9998     NaN      NaN            NaN        NaN             NaN   \n",
       " 9999     NaN      NaN            NaN        NaN             NaN   \n",
       " \n",
       "       EstimatedSalary  Exited  \n",
       " 0            24924.92     0.0  \n",
       " 1                 NaN     NaN  \n",
       " 2                 NaN     NaN  \n",
       " 3                 NaN     NaN  \n",
       " 4                 NaN     NaN  \n",
       " ...               ...     ...  \n",
       " 9995              NaN     NaN  \n",
       " 9996              NaN     NaN  \n",
       " 9997              NaN     NaN  \n",
       " 9998              NaN     NaN  \n",
       " 9999              NaN     NaN  \n",
       " \n",
       " [10000 rows x 14 columns],\n",
       " 'standard deviation': RowNumber           2886.895680\n",
       " CustomerId         71936.186123\n",
       " CreditScore           96.653299\n",
       " Age                   10.487806\n",
       " Tenure                 2.892174\n",
       " Balance            62397.405202\n",
       " NumOfProducts          0.581654\n",
       " HasCrCard              0.455840\n",
       " IsActiveMember         0.499797\n",
       " EstimatedSalary    57510.492818\n",
       " Exited                 0.402769\n",
       " dtype: float64,\n",
       " 'variance': RowNumber          8.334167e+06\n",
       " CustomerId         5.174815e+09\n",
       " CreditScore        9.341860e+03\n",
       " Age                1.099941e+02\n",
       " Tenure             8.364673e+00\n",
       " Balance            3.893436e+09\n",
       " NumOfProducts      3.383218e-01\n",
       " HasCrCard          2.077905e-01\n",
       " IsActiveMember     2.497970e-01\n",
       " EstimatedSalary    3.307457e+09\n",
       " Exited             1.622225e-01\n",
       " dtype: float64,\n",
       " 'skewness': RowNumber          0.000000\n",
       " CustomerId         0.001149\n",
       " CreditScore       -0.071607\n",
       " Age                1.011320\n",
       " Tenure             0.010991\n",
       " Balance           -0.141109\n",
       " NumOfProducts      0.745568\n",
       " HasCrCard         -0.901812\n",
       " IsActiveMember    -0.060437\n",
       " EstimatedSalary    0.002085\n",
       " Exited             1.471611\n",
       " dtype: float64,\n",
       " 'kurtosis': RowNumber         -1.200000\n",
       " CustomerId        -1.196113\n",
       " CreditScore       -0.425726\n",
       " Age                1.395347\n",
       " Tenure            -1.165225\n",
       " Balance           -1.489412\n",
       " NumOfProducts      0.582981\n",
       " HasCrCard         -1.186973\n",
       " IsActiveMember    -1.996747\n",
       " EstimatedSalary   -1.181518\n",
       " Exited             0.165671\n",
       " dtype: float64}"
      ]
     },
     "execution_count": 60,
     "metadata": {},
     "output_type": "execute_result"
    }
   ],
   "source": [
    "#Performing EDA\n",
    "EDA ={\"column \": rpl.columns,\n",
    "      \"mean\": rpl.mean(),\n",
    "      \"median\":rpl.median(),\n",
    "      \"mode\":rpl.mode(),\n",
    "      \"standard deviation\": rpl.std(),\n",
    "      \"variance\":rpl.var(),\n",
    "      \"skewness\":rpl.skew(),\n",
    "      \"kurtosis\":rpl.kurt()}\n",
    "\n",
    "EDA"
   ]
  },
  {
   "cell_type": "code",
   "execution_count": 61,
   "id": "73a45bb0",
   "metadata": {},
   "outputs": [
    {
     "name": "stderr",
     "output_type": "stream",
     "text": [
      "C:\\Users\\jeeva\\AppData\\Local\\Temp\\ipykernel_11312\\2991994714.py:2: FutureWarning: Dropping of nuisance columns in DataFrame reductions (with 'numeric_only=None') is deprecated; in a future version this will raise TypeError.  Select only valid columns before calling the reduction.\n",
      "  rpl.var()\n"
     ]
    },
    {
     "data": {
      "text/plain": [
       "RowNumber          8.334167e+06\n",
       "CustomerId         5.174815e+09\n",
       "CreditScore        9.341860e+03\n",
       "Age                1.099941e+02\n",
       "Tenure             8.364673e+00\n",
       "Balance            3.893436e+09\n",
       "NumOfProducts      3.383218e-01\n",
       "HasCrCard          2.077905e-01\n",
       "IsActiveMember     2.497970e-01\n",
       "EstimatedSalary    3.307457e+09\n",
       "Exited             1.622225e-01\n",
       "dtype: float64"
      ]
     },
     "execution_count": 61,
     "metadata": {},
     "output_type": "execute_result"
    }
   ],
   "source": [
    "#variance for each column\n",
    "rpl.var() "
   ]
  },
  {
   "cell_type": "code",
   "execution_count": 62,
   "id": "aaa5c660",
   "metadata": {},
   "outputs": [],
   "source": [
    "rpl.drop([\"RowNumber\",\"CustomerId\",\"Surname\"], axis = 1, inplace = True)"
   ]
  },
  {
   "cell_type": "markdown",
   "id": "125bcaae",
   "metadata": {},
   "source": [
    "#### graphical repersentation "
   ]
  },
  {
   "cell_type": "code",
   "execution_count": 63,
   "id": "6c29e022",
   "metadata": {},
   "outputs": [
    {
     "data": {
      "text/plain": [
       "<seaborn.axisgrid.PairGrid at 0x17ee44c4490>"
      ]
     },
     "execution_count": 63,
     "metadata": {},
     "output_type": "execute_result"
    }
   ],
   "source": [
    "##historgam and scatter plot\n",
    "import seaborn as sns\n",
    "\n",
    "sns.pairplot(rpl.iloc[:,[0,3,4,5,9,10]],hue='Exited')"
   ]
  },
  {
   "cell_type": "markdown",
   "id": "55590963",
   "metadata": {},
   "source": [
    "#### boxplot for every columns"
   ]
  },
  {
   "cell_type": "code",
   "execution_count": 100,
   "id": "20fe36b5",
   "metadata": {},
   "outputs": [
    {
     "data": {
      "text/plain": [
       "<AxesSubplot:xlabel='Exited', ylabel='CreditScore'>"
      ]
     },
     "execution_count": 100,
     "metadata": {},
     "output_type": "execute_result"
    }
   ],
   "source": [
    "sns.boxplot(x = \"Exited\", y = \"CreditScore\", data =rpl)"
   ]
  },
  {
   "cell_type": "code",
   "execution_count": 65,
   "id": "f503aba0",
   "metadata": {},
   "outputs": [
    {
     "data": {
      "text/plain": [
       "<AxesSubplot:xlabel='Exited', ylabel='Age'>"
      ]
     },
     "execution_count": 65,
     "metadata": {},
     "output_type": "execute_result"
    }
   ],
   "source": [
    "sns.boxplot(x = \"Exited\", y = \"Age\", data = rpl)"
   ]
  },
  {
   "cell_type": "code",
   "execution_count": 66,
   "id": "a0e2aa23",
   "metadata": {},
   "outputs": [
    {
     "data": {
      "text/plain": [
       "<AxesSubplot:xlabel='Exited', ylabel='Balance'>"
      ]
     },
     "execution_count": 66,
     "metadata": {},
     "output_type": "execute_result"
    }
   ],
   "source": [
    "sns.boxplot(x = \"Exited\", y = \"Balance\", data = rpl)"
   ]
  },
  {
   "cell_type": "code",
   "execution_count": 67,
   "id": "99cb36cb",
   "metadata": {},
   "outputs": [
    {
     "data": {
      "text/plain": [
       "<AxesSubplot:xlabel='Exited', ylabel='EstimatedSalary'>"
      ]
     },
     "execution_count": 67,
     "metadata": {},
     "output_type": "execute_result"
    }
   ],
   "source": [
    "sns.boxplot(x = \"Exited\", y = \"EstimatedSalary\", data = rpl)"
   ]
  },
  {
   "cell_type": "code",
   "execution_count": 68,
   "id": "17fd817c",
   "metadata": {},
   "outputs": [
    {
     "data": {
      "text/plain": [
       "<AxesSubplot:xlabel='Exited', ylabel='Tenure'>"
      ]
     },
     "execution_count": 68,
     "metadata": {},
     "output_type": "execute_result"
    }
   ],
   "source": [
    "sns.boxplot(x = \"Exited\", y = \"Tenure\", data =rpl)"
   ]
  },
  {
   "cell_type": "code",
   "execution_count": null,
   "id": "27b703f4",
   "metadata": {},
   "outputs": [],
   "source": [
    "rpl.boxplot(column=['CreditScore', 'Age', 'Balance', 'EstimatedSalary','Tenure'])  "
   ]
  },
  {
   "cell_type": "code",
   "execution_count": null,
   "id": "f63e7bac",
   "metadata": {},
   "outputs": [],
   "source": [
    "# Normalization function using z std. all are continuous data.\n",
    "def norm_func(i):\n",
    "    x = (i-i.mean())/(i.std())\n",
    "    return (x)"
   ]
  },
  {
   "cell_type": "code",
   "execution_count": null,
   "id": "8cf12d9c",
   "metadata": {},
   "outputs": [],
   "source": [
    "# Normalized data frame (considering the numerical part of data)\n",
    "df = norm_func(rpl.iloc[:,[0,3,4,5,6,7,8,9]])\n",
    "df.describe()"
   ]
  },
  {
   "cell_type": "code",
   "execution_count": null,
   "id": "a9cbd785",
   "metadata": {},
   "outputs": [],
   "source": [
    "#categorical\n",
    "enc_df = pd.get_dummies(rpl.iloc[:,[1,2]])\n",
    "enc_df.columns"
   ]
  },
  {
   "cell_type": "code",
   "execution_count": null,
   "id": "97ccea59",
   "metadata": {},
   "outputs": [],
   "source": [
    "#final dataframe\n",
    "model_df = pd.concat([rpl.iloc[:,[10]],df,enc_df], axis =1)"
   ]
  },
  {
   "cell_type": "code",
   "execution_count": null,
   "id": "fd9b707d",
   "metadata": {},
   "outputs": [],
   "source": [
    "#building model\n",
    "from tensorflow.keras import Sequential\n",
    "from tensorflow.keras.layers import  Dense\n",
    "from keras.utils import np_utils\n",
    "\n",
    "np.random.seed(10)"
   ]
  },
  {
   "cell_type": "code",
   "execution_count": null,
   "id": "a0f07e36",
   "metadata": {},
   "outputs": [],
   "source": [
    "from sklearn.model_selection import train_test_split\n",
    "\n",
    "model_df_train, model_df_test = train_test_split(model_df, test_size = 0.2,random_state = 457) # 20% test data\n",
    "\n",
    "x_train = model_df_train.iloc[:,1:].values.astype(\"float32\")\n",
    "y_train = model_df_train.iloc[:,0].values.astype(\"float32\")\n",
    "x_test = model_df_test.iloc[:,1:].values.astype(\"float32\")\n",
    "y_test = model_df_test.iloc[:,0].values.astype(\"float32\")"
   ]
  },
  {
   "cell_type": "code",
   "execution_count": null,
   "id": "deaa0869",
   "metadata": {},
   "outputs": [],
   "source": [
    "# one hot encoding outputs for both train and test data sets \n",
    "y_train = np_utils.to_categorical(y_train)\n",
    "y_test = np_utils.to_categorical(y_test)"
   ]
  },
  {
   "cell_type": "code",
   "execution_count": null,
   "id": "e0755dd9",
   "metadata": {},
   "outputs": [],
   "source": [
    "# Storing the number of classes into the variable num_of_classes \n",
    "num_of_classes = y_test.shape[1]"
   ]
  },
  {
   "cell_type": "code",
   "execution_count": null,
   "id": "46d8100d",
   "metadata": {},
   "outputs": [],
   "source": [
    "# Creating a user defined function to return the model for which we are\n",
    "# giving the input to train the ANN mode\n",
    "def design_mlp():\n",
    "    # Initializing the model \n",
    "    model = Sequential()\n",
    "    model.add(Dense(150,input_dim =13,activation=\"relu\"))\n",
    "    model.add(Dense(200,activation=\"tanh\"))\n",
    "    model.add(Dense(120,activation=\"tanh\"))\n",
    "    model.add(Dense(200,activation=\"tanh\"))\n",
    "    model.add(Dense(num_of_classes,activation=\"softmax\"))\n",
    "    model.compile(loss=\"binary_crossentropy\",optimizer=\"adam\",metrics=[\"accuracy\"])\n",
    "    return model"
   ]
  },
  {
   "cell_type": "code",
   "execution_count": null,
   "id": "d596149f",
   "metadata": {},
   "outputs": [],
   "source": [
    "# building a cnn model using train data set and validating on test data set\n",
    "model = design_mlp()"
   ]
  },
  {
   "cell_type": "code",
   "execution_count": null,
   "id": "891e1477",
   "metadata": {},
   "outputs": [],
   "source": [
    "# fitting model on train data\n",
    "model.fit(x=x_train,y=y_train,batch_size=500,epochs=5)"
   ]
  },
  {
   "cell_type": "code",
   "execution_count": null,
   "id": "022e20fd",
   "metadata": {},
   "outputs": [],
   "source": [
    "# Evaluating the model on test data  \n",
    "eval_score_test = model.evaluate(x_test,y_test,verbose = 1)"
   ]
  },
  {
   "cell_type": "code",
   "execution_count": null,
   "id": "c245db5e",
   "metadata": {},
   "outputs": [],
   "source": [
    "# accuracy on test data set\n",
    "print (\"Accuracy: %.3f%%\" %(eval_score_test[1]*100)) "
   ]
  },
  {
   "cell_type": "code",
   "execution_count": null,
   "id": "cedf0a0f",
   "metadata": {},
   "outputs": [],
   "source": [
    "# Evaluating the model on train data \n",
    "eval_score_train = model.evaluate(x_train,y_train,verbose=0)"
   ]
  },
  {
   "cell_type": "code",
   "execution_count": null,
   "id": "523c04cb",
   "metadata": {},
   "outputs": [],
   "source": [
    "# accuracy on train data set \n",
    "print (\"Accuracy: %.3f%%\" %(eval_score_train[1]*100)) "
   ]
  }
 ],
 "metadata": {
  "kernelspec": {
   "display_name": "Python 3 (ipykernel)",
   "language": "python",
   "name": "python3"
  },
  "language_info": {
   "codemirror_mode": {
    "name": "ipython",
    "version": 3
   },
   "file_extension": ".py",
   "mimetype": "text/x-python",
   "name": "python",
   "nbconvert_exporter": "python",
   "pygments_lexer": "ipython3",
   "version": "3.9.13"
  }
 },
 "nbformat": 4,
 "nbformat_minor": 5
}
